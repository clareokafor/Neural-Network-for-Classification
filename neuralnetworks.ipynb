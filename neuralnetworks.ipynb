{
  "cells": [
    {
      "cell_type": "markdown",
      "metadata": {
        "id": "n00qOTsfXtDP"
      },
      "source": [
        "**Students Details:**\n",
        "\n",
        "\n",
        "1.  Naveen Baburaj - 201665419\n",
        "2.  Ogochukwu Okafor - 201666459\n",
        "\n"
      ]
    },
    {
      "cell_type": "markdown",
      "metadata": {
        "id": "whnoo7TxCopq"
      },
      "source": [
        "**STEP ONE (1)**\n",
        "Importing the libraries"
      ]
    },
    {
      "cell_type": "code",
      "execution_count": null,
      "metadata": {
        "id": "ON4wfBoeC3eg"
      },
      "outputs": [],
      "source": [
        "# Importing the libraries\n",
        "import torch\n",
        "import torchvision\n",
        "import torchvision.transforms as transforms\n",
        "from torch.utils.data import DataLoader, TensorDataset\n",
        "import torch.nn as nn\n",
        "import torch.optim as optim\n",
        "import torch.nn.functional as F\n",
        "import numpy as np\n",
        "import matplotlib.pyplot as plt\n",
        "from IPython.testing import test\n",
        "import traceback\n",
        "from sklearn.model_selection import KFold, RandomizedSearchCV\n",
        "import time\n",
        "from sklearn.metrics import precision_recall_fscore_support, confusion_matrix\n",
        "import seaborn as sns\n",
        "from sklearn.base import BaseEstimator, ClassifierMixin\n",
        "from sklearn.utils.validation import check_X_y, check_array, check_is_fitted"
      ]
    },
    {
      "cell_type": "code",
      "execution_count": null,
      "metadata": {
        "id": "Y-VtDYEEF9Mq"
      },
      "outputs": [],
      "source": [
        "# Setting the system using GPU if available\n",
        "device = torch.device(\"cuda\" if torch.cuda.is_available() else \"cpu\")\n",
        "\n",
        "# Setting up the transform pipeline to convert the images to PyTorch tensors\n",
        "t = transforms.Compose([ # enabling transformation pipelines by combining several transformations into a single pipeline.\n",
        "    transforms.ToTensor(), # transforming input images to tensors\n",
        "    transforms.Normalize((0.1733,), (0.3311,))]) # normalizing the tensor values with a mean of  0.1733 and a standard deviation of  0.3311."
      ]
    },
    {
      "cell_type": "markdown",
      "metadata": {
        "id": "F7XTQ2LRFpBc"
      },
      "source": [
        "**STEP 2 to 3**\n",
        "\n",
        "\n",
        "2.  Step Loading the EMNIST \"Balanced\" dataset\n",
        "3.  Splitting the datasets into train data and test data\n",
        "\n",
        "\n"
      ]
    },
    {
      "cell_type": "code",
      "execution_count": null,
      "metadata": {
        "colab": {
          "base_uri": "https://localhost:8080/"
        },
        "id": "aLituKERyi61",
        "outputId": "6890989f-9182-4446-8e00-83d1f935c181"
      },
      "outputs": [
        {
          "name": "stdout",
          "output_type": "stream",
          "text": [
            "Downloading https://www.itl.nist.gov/iaui/vip/cs_links/EMNIST/gzip.zip to ./emnist/EMNIST/raw/gzip.zip\n"
          ]
        },
        {
          "name": "stderr",
          "output_type": "stream",
          "text": [
            "100%|██████████| 561753746/561753746 [00:06<00:00, 83423244.24it/s]\n"
          ]
        },
        {
          "name": "stdout",
          "output_type": "stream",
          "text": [
            "Extracting ./emnist/EMNIST/raw/gzip.zip to ./emnist/EMNIST/raw\n"
          ]
        }
      ],
      "source": [
        "# Loading the EMNIST \"Balanced\" dataset\n",
        "directory = './emnist'\n",
        "\n",
        "# Setting the random seed for consistency\n",
        "torch.manual_seed(42)\n",
        "# STEP THREE (3)\n",
        "# Splitting the datasets into train data and test data\n",
        "\n",
        "train_data = torchvision.datasets.EMNIST(root=directory, split='balanced', train=True, transform=t, download=True) # loading the train data\n",
        "test_data = torchvision.datasets.EMNIST(root=directory, split='balanced', train=False, transform=t, download=True) # loading the test data\n",
        "\n",
        "# Loading the splitted data loaders for the train data and test data\n",
        "trains = torch.utils.data.DataLoader(train_data, batch_size=64, shuffle=True) # splitted train datasets\n",
        "tests = torch.utils.data.DataLoader(test_data, batch_size=64, shuffle=False) # splitted test datasets"
      ]
    },
    {
      "cell_type": "markdown",
      "metadata": {
        "id": "Iz0EqLSDG25N"
      },
      "source": [
        "**STEP FOUR (4)**\n",
        "\n",
        "\n",
        "*  Printing out the number of training/testing samples in the dataset.\n",
        "*  Plotting some figures to visualize some samples in the dataset \n",
        "\n",
        "\n",
        "\n"
      ]
    },
    {
      "cell_type": "code",
      "execution_count": null,
      "metadata": {
        "colab": {
          "base_uri": "https://localhost:8080/",
          "height": 1000
        },
        "id": "SMRlEDxnHVji",
        "outputId": "2f7950bd-336b-414c-be9e-5063bc44373c"
      },
      "outputs": [
        {
          "name": "stdout",
          "output_type": "stream",
          "text": [
            "EMNIST Balanced Dataset Information:\n",
            "Train: 112,800\n",
            "Test: 18,800\n",
            "Total: 131,600\n",
            "Classes: 47 (balanced)\n"
          ]
        },
        {
          "data": {
            "image/png": "[encoded data removed]",
            "text/plain": [
              "<Figure size 1000x400 with 10 Axes>"
            ]
          },
          "metadata": {},
          "output_type": "display_data"
        },
        {
          "data": {
            "image/png": "[encoded data removed]",
            "text/plain": [
              "<Figure size 800x400 with 10 Axes>"
            ]
          },
          "metadata": {},
          "output_type": "display_data"
        },
        {
          "data": {
            "image/png": "[encoded data removed]",
            "text/plain": [
              "<Figure size 800x400 with 10 Axes>"
            ]
          },
          "metadata": {},
          "output_type": "display_data"
        }
      ],
      "source": [
        "# Printing the dataset information of the '/emnist-balanced-mapping.txt' text file.\n",
        "print(\"EMNIST Balanced Dataset Information:\\nTrain: \" + \"{:,}\".format(len(train_data)) + \n",
        "      \"\\nTest: \" + \"{:,}\".format(len(test_data)) + \n",
        "      \"\\nTotal: \" + \"{:,}\".format(len(train_data) + len(test_data)) + \n",
        "      \"\\nClasses: \" + str(len(train_data.classes)) + \" (balanced)\")\n",
        "\n",
        "# Visualising the Mapping File\n",
        "mappings = open('/emnist-balanced-mapping.txt')# open('/emnist-balanced-mapping.txt')  # opening the file containing mapping information\n",
        "map_lines = mappings.readlines()  # reads all the lines in the mapping file\n",
        "map_dict = {}  # creates an empty dictionary to hold the mapping information\n",
        "\n",
        "for line in map_lines:  # iterating over each line in the mapping file\n",
        "    label, alpha = line.split()  # splits each line into label and corresponding alpha value\n",
        "    map_dict[int(label)] = chr(int(alpha))  # stores the mapping information in the dictionary\n",
        "\n",
        "for m, n in trains:  # iterating over the images and labels in the train data loader\n",
        "    fig, axes = plt.subplots(nrows=2, ncols=5, figsize=(10,4))  # creates a grid of subplots for visualization\n",
        "    for i, ax in enumerate(axes.flat):  # iterating over every subplot\n",
        "        ax.imshow(m[i].squeeze(), cmap='gray')  # displaying the ith image in grayscale\n",
        "        ax.set_title(\"Truth Label: {}\".format(map_dict[n[i].item()]))  # setting the title of the subplot with the corresponding label information\n",
        "        ax.axis('off')  # removing the axes from the subplot\n",
        "    plt.show()  # displaying the plot\n",
        "    break  # breaking the loop after displaying the first batch of images and labels\n",
        "\n",
        "# Visualising the EMNIST Train Datasets\n",
        "# Creating a figure with 10 subplots, arranged in 2 rows of 5 subplots each for the train data\n",
        "fig, axs = plt.subplots(2, 5, figsize=(8, 4)) # creating a figure of 8 inches by 4 inches and having 2 rows and 5 columns of subplots.\n",
        "axs = axs.flatten() # flattening the axs array to enable a single loop iteration over all subplots.\n",
        "for i in range(10): # looping through the first 10 images in the train dataset\n",
        "    axs[i].imshow(train_data[i][0].squeeze(), cmap=\"gray\") # showing the image in grayscale using the imshow functio\n",
        "    title = map_dict[train_data[i][1]].replace(\"cm\", \"\") # retrieving the label of the image from the map_dict and removing \"cm\" from the label\n",
        "    axs[i].set_title(f\"Truth Label: {title}\") # setting the title of the subplot with the true label of the image\n",
        "    axs[i].set_xticks([]) # removing the x ticks from the subplot\n",
        "    axs[i].set_yticks([]) # removing the y ticks from the subplot \n",
        "fig.suptitle(\"Sample EMNIST Train Data images\") # giving the entire train figure a title\n",
        "fig.tight_layout() # improving the spacing between subplots\n",
        "plt.show() # displaying the image\n",
        "\n",
        "# Visualising the EMNIST Test Datasets\n",
        "# Creating a figure with 10 subplots, arranged in 2 rows of 5 subplots each for the test data\n",
        "fig, axs = plt.subplots(2, 5, figsize=(8, 4)) # creating a figure of 8 inches by 4 inches and having 2 rows and 5 columns of subplots.\n",
        "axs = axs.flatten() # flattening the axs array to enable a single loop iteration over all subplots.\n",
        "for i in range(10): # looping through the first 10 images in the train dataset\n",
        "    axs[i].imshow(test_data[i][0].squeeze(), cmap=\"gray\")  # showing the image in grayscale using the imshow function\n",
        "    title = map_dict[test_data[i][1]].replace(\"cm\", \"\") # retrieving the label of the image from the map_dict and removing \"cm\" from the label\n",
        "    axs[i].set_title(f\"Truth Label: {title}\") # setting the title of the subplot with the true label of the image\n",
        "    axs[i].set_xticks([]) # removing the x ticks from the subplot\n",
        "    axs[i].set_yticks([]) # removing the y ticks from the subplot \n",
        "fig.suptitle(\"Sample EMNIST Test Data images\") # giving the entire test figure a title\n",
        "fig.tight_layout() # improving the spacing between subplots\n",
        "plt.show() # displaying the image"
      ]
    },
    {
      "cell_type": "markdown",
      "metadata": {
        "id": "qC7xLMVQKVds"
      },
      "source": [
        "**Step 5**\n",
        "**Multi-Layer Perceptron (MLP) Neural Network**"
      ]
    },
    {
      "cell_type": "markdown",
      "metadata": {
        "id": "d2ytxt22DFsC"
      },
      "source": [
        "**Building the Multi-Layer Perceptron (MLP) Neural Network Using 4 Hidden Layers**"
      ]
    },
    {
      "cell_type": "code",
      "execution_count": null,
      "metadata": {
        "id": "FRQzQ0o7pdx4"
      },
      "outputs": [],
      "source": [
        "# Define a function to build the MLP model with different hyperparameters and techniques\n",
        "def build_mlp(input_size, output_size, hidden_size, activation_function, dropout, batch_norm, l1_reg, l2_reg):\n",
        "  layers = [] # empty list to hold the four hidden layers\n",
        "  prev_size = input_size\n",
        "  for size in hidden_size:\n",
        "    layers.append(nn.Linear(prev_size, size))\n",
        "    if batch_norm:\n",
        "      layers.append(nn.BatchNorm1d(size))\n",
        "    layers.append(activation_function)\n",
        "    if dropout:\n",
        "      layers.append(nn.Dropout(dropout))\n",
        "    prev_size = size\n",
        "  layers.append(nn.Linear(prev_size, hidden_size[-1]))\n",
        "  if batch_norm:\n",
        "      layers.append(nn.BatchNorm1d(hidden_size[-1]))\n",
        "  layers.append(activation_function)\n",
        "  if dropout:\n",
        "      layers.append(nn.Dropout(dropout))\n",
        "  layers.append(nn.Linear(hidden_size[-1], hidden_size[-1]))\n",
        "  if batch_norm:\n",
        "      layers.append(nn.BatchNorm1d(hidden_size[-1]))\n",
        "  layers.append(activation_function)\n",
        "  if dropout:\n",
        "      layers.append(nn.Dropout(dropout))\n",
        "  layers.append(nn.Linear(hidden_size[-1], hidden_size[-1]))\n",
        "  if batch_norm:\n",
        "      layers.append(nn.BatchNorm1d(hidden_size[-1]))\n",
        "  layers.append(activation_function)\n",
        "  if dropout:\n",
        "      layers.append(nn.Dropout(dropout))\n",
        "  layers.append(nn.Linear(hidden_size[-1], output_size))\n",
        "  return nn.Sequential(*layers)"
      ]
    },
    {
      "cell_type": "markdown",
      "metadata": {
        "id": "yI9euR84aIbq"
      },
      "source": [
        "**Exploring Different Hyperparameters**"
      ]
    },
    {
      "cell_type": "code",
      "execution_count": null,
      "metadata": {
        "id": "bddWhX-dhqXN"
      },
      "outputs": [],
      "source": [
        "# Define the hyperparameters and techniques for the MLP model\n",
        "input_size = 28 * 28\n",
        "output_size = 47\n",
        "hidden_size = [512]\n",
        "batch_size = 64\n",
        "learning_rate = 0.001\n",
        "dropout = 0.2\n",
        "epochs = 5\n",
        "batch_norm = True\n",
        "l1_reg = 0.01\n",
        "l2_reg = 0.01"
      ]
    },
    {
      "cell_type": "markdown",
      "metadata": {
        "id": "vwuSPsG1ahmd"
      },
      "source": [
        "**1 Using Different Learning Rate Schedulers**"
      ]
    },
    {
      "cell_type": "markdown",
      "metadata": {
        "id": "5ZcHNVV7CnI7"
      },
      "source": [
        "**1a) Finding the Best Activation Function for the MLP Neural Network Using StepRL Learning Rate Scheduler**"
      ]
    },
    {
      "cell_type": "code",
      "execution_count": null,
      "metadata": {
        "colab": {
          "base_uri": "https://localhost:8080/"
        },
        "id": "vBtaw_AufFp_",
        "outputId": "ff414460-7da1-42d8-f257-b0b452b3713c"
      },
      "outputs": [
        {
          "name": "stdout",
          "output_type": "stream",
          "text": [
            "Epoch 1/5, Batch 100/722, Train Loss: 2.1483, Train Accuracy: 43.83%, Activation Function: ReLU()\n",
            "Epoch 1/5, Batch 200/722, Train Loss: 1.2671, Train Accuracy: 61.27%, Activation Function: ReLU()\n",
            "Epoch 1/5, Batch 300/722, Train Loss: 1.1122, Train Accuracy: 65.44%, Activation Function: ReLU()\n",
            "Epoch 1/5, Batch 400/722, Train Loss: 1.0255, Train Accuracy: 67.50%, Activation Function: ReLU()\n",
            "Epoch 1/5, Batch 500/722, Train Loss: 0.9489, Train Accuracy: 70.22%, Activation Function: ReLU()\n",
            "Epoch 1/5, Batch 600/722, Train Loss: 0.9487, Train Accuracy: 69.64%, Activation Function: ReLU()\n",
            "Epoch 1/5, Batch 700/722, Train Loss: 0.8869, Train Accuracy: 71.84%, Activation Function: ReLU()\n",
            "Epoch 2/5, Batch 100/722, Train Loss: 0.7108, Train Accuracy: 76.62%, Activation Function: ReLU()\n",
            "Epoch 2/5, Batch 200/722, Train Loss: 0.6827, Train Accuracy: 76.72%, Activation Function: ReLU()\n",
            "Epoch 2/5, Batch 300/722, Train Loss: 0.6507, Train Accuracy: 77.89%, Activation Function: ReLU()\n",
            "Epoch 2/5, Batch 400/722, Train Loss: 0.6485, Train Accuracy: 77.84%, Activation Function: ReLU()\n",
            "Epoch 2/5, Batch 500/722, Train Loss: 0.6393, Train Accuracy: 78.27%, Activation Function: ReLU()\n",
            "Epoch 2/5, Batch 600/722, Train Loss: 0.6219, Train Accuracy: 79.09%, Activation Function: ReLU()\n",
            "Epoch 2/5, Batch 700/722, Train Loss: 0.5979, Train Accuracy: 79.52%, Activation Function: ReLU()\n",
            "Epoch 3/5, Batch 100/722, Train Loss: 0.5111, Train Accuracy: 82.09%, Activation Function: ReLU()\n",
            "Epoch 3/5, Batch 200/722, Train Loss: 0.5198, Train Accuracy: 81.62%, Activation Function: ReLU()\n",
            "Epoch 3/5, Batch 300/722, Train Loss: 0.5003, Train Accuracy: 82.33%, Activation Function: ReLU()\n",
            "Epoch 3/5, Batch 400/722, Train Loss: 0.5262, Train Accuracy: 81.12%, Activation Function: ReLU()\n",
            "Epoch 3/5, Batch 500/722, Train Loss: 0.4948, Train Accuracy: 82.78%, Activation Function: ReLU()\n",
            "Epoch 3/5, Batch 600/722, Train Loss: 0.5330, Train Accuracy: 81.95%, Activation Function: ReLU()\n",
            "Epoch 3/5, Batch 700/722, Train Loss: 0.4968, Train Accuracy: 81.95%, Activation Function: ReLU()\n",
            "Epoch 4/5, Batch 100/722, Train Loss: 0.4443, Train Accuracy: 83.55%, Activation Function: ReLU()\n",
            "Epoch 4/5, Batch 200/722, Train Loss: 0.4547, Train Accuracy: 83.91%, Activation Function: ReLU()\n",
            "Epoch 4/5, Batch 300/722, Train Loss: 0.4544, Train Accuracy: 83.36%, Activation Function: ReLU()\n",
            "Epoch 4/5, Batch 400/722, Train Loss: 0.4466, Train Accuracy: 84.00%, Activation Function: ReLU()\n",
            "Epoch 4/5, Batch 500/722, Train Loss: 0.4564, Train Accuracy: 83.39%, Activation Function: ReLU()\n",
            "Epoch 4/5, Batch 600/722, Train Loss: 0.4409, Train Accuracy: 84.06%, Activation Function: ReLU()\n",
            "Epoch 4/5, Batch 700/722, Train Loss: 0.4726, Train Accuracy: 83.58%, Activation Function: ReLU()\n",
            "Epoch 5/5, Batch 100/722, Train Loss: 0.3682, Train Accuracy: 86.27%, Activation Function: ReLU()\n",
            "Epoch 5/5, Batch 200/722, Train Loss: 0.3726, Train Accuracy: 86.36%, Activation Function: ReLU()\n",
            "Epoch 5/5, Batch 300/722, Train Loss: 0.4200, Train Accuracy: 84.48%, Activation Function: ReLU()\n",
            "Epoch 5/5, Batch 400/722, Train Loss: 0.4133, Train Accuracy: 84.77%, Activation Function: ReLU()\n",
            "Epoch 5/5, Batch 500/722, Train Loss: 0.4285, Train Accuracy: 84.77%, Activation Function: ReLU()\n",
            "Epoch 5/5, Batch 600/722, Train Loss: 0.4336, Train Accuracy: 84.55%, Activation Function: ReLU()\n",
            "Epoch 5/5, Batch 700/722, Train Loss: 0.4214, Train Accuracy: 84.62%, Activation Function: ReLU()\n",
            "Epoch 1/5, Batch 100/722, Train Loss: 2.1073, Train Accuracy: 44.39%, Activation Function: LeakyReLU(negative_slope=0.01)\n",
            "Epoch 1/5, Batch 200/722, Train Loss: 1.3144, Train Accuracy: 60.22%, Activation Function: LeakyReLU(negative_slope=0.01)\n",
            "Epoch 1/5, Batch 300/722, Train Loss: 1.1150, Train Accuracy: 66.00%, Activation Function: LeakyReLU(negative_slope=0.01)\n",
            "Epoch 1/5, Batch 400/722, Train Loss: 1.0584, Train Accuracy: 67.34%, Activation Function: LeakyReLU(negative_slope=0.01)\n",
            "Epoch 1/5, Batch 500/722, Train Loss: 0.9563, Train Accuracy: 69.94%, Activation Function: LeakyReLU(negative_slope=0.01)\n",
            "Epoch 1/5, Batch 600/722, Train Loss: 0.9450, Train Accuracy: 70.31%, Activation Function: LeakyReLU(negative_slope=0.01)\n",
            "Epoch 1/5, Batch 700/722, Train Loss: 0.8726, Train Accuracy: 71.91%, Activation Function: LeakyReLU(negative_slope=0.01)\n",
            "Epoch 2/5, Batch 100/722, Train Loss: 0.7452, Train Accuracy: 76.14%, Activation Function: LeakyReLU(negative_slope=0.01)\n",
            "Epoch 2/5, Batch 200/722, Train Loss: 0.6930, Train Accuracy: 76.91%, Activation Function: LeakyReLU(negative_slope=0.01)\n",
            "Epoch 2/5, Batch 300/722, Train Loss: 0.6574, Train Accuracy: 77.77%, Activation Function: LeakyReLU(negative_slope=0.01)\n",
            "Epoch 2/5, Batch 400/722, Train Loss: 0.6247, Train Accuracy: 78.52%, Activation Function: LeakyReLU(negative_slope=0.01)\n",
            "Epoch 2/5, Batch 500/722, Train Loss: 0.6464, Train Accuracy: 78.61%, Activation Function: LeakyReLU(negative_slope=0.01)\n",
            "Epoch 2/5, Batch 600/722, Train Loss: 0.6334, Train Accuracy: 77.86%, Activation Function: LeakyReLU(negative_slope=0.01)\n",
            "Epoch 2/5, Batch 700/722, Train Loss: 0.5832, Train Accuracy: 80.53%, Activation Function: LeakyReLU(negative_slope=0.01)\n",
            "Epoch 3/5, Batch 100/722, Train Loss: 0.5070, Train Accuracy: 82.23%, Activation Function: LeakyReLU(negative_slope=0.01)\n",
            "Epoch 3/5, Batch 200/722, Train Loss: 0.5081, Train Accuracy: 82.14%, Activation Function: LeakyReLU(negative_slope=0.01)\n",
            "Epoch 3/5, Batch 300/722, Train Loss: 0.5309, Train Accuracy: 81.56%, Activation Function: LeakyReLU(negative_slope=0.01)\n",
            "Epoch 3/5, Batch 400/722, Train Loss: 0.5090, Train Accuracy: 82.70%, Activation Function: LeakyReLU(negative_slope=0.01)\n",
            "Epoch 3/5, Batch 500/722, Train Loss: 0.5604, Train Accuracy: 80.41%, Activation Function: LeakyReLU(negative_slope=0.01)\n",
            "Epoch 3/5, Batch 600/722, Train Loss: 0.5263, Train Accuracy: 81.81%, Activation Function: LeakyReLU(negative_slope=0.01)\n",
            "Epoch 3/5, Batch 700/722, Train Loss: 0.5464, Train Accuracy: 80.45%, Activation Function: LeakyReLU(negative_slope=0.01)\n",
            "Epoch 4/5, Batch 100/722, Train Loss: 0.4420, Train Accuracy: 84.11%, Activation Function: LeakyReLU(negative_slope=0.01)\n",
            "Epoch 4/5, Batch 200/722, Train Loss: 0.4506, Train Accuracy: 84.03%, Activation Function: LeakyReLU(negative_slope=0.01)\n",
            "Epoch 4/5, Batch 300/722, Train Loss: 0.4551, Train Accuracy: 83.58%, Activation Function: LeakyReLU(negative_slope=0.01)\n",
            "Epoch 4/5, Batch 400/722, Train Loss: 0.4469, Train Accuracy: 83.44%, Activation Function: LeakyReLU(negative_slope=0.01)\n",
            "Epoch 4/5, Batch 500/722, Train Loss: 0.4508, Train Accuracy: 83.52%, Activation Function: LeakyReLU(negative_slope=0.01)\n",
            "Epoch 4/5, Batch 600/722, Train Loss: 0.4414, Train Accuracy: 84.19%, Activation Function: LeakyReLU(negative_slope=0.01)\n",
            "Epoch 4/5, Batch 700/722, Train Loss: 0.4608, Train Accuracy: 83.50%, Activation Function: LeakyReLU(negative_slope=0.01)\n",
            "Epoch 5/5, Batch 100/722, Train Loss: 0.3831, Train Accuracy: 85.62%, Activation Function: LeakyReLU(negative_slope=0.01)\n",
            "Epoch 5/5, Batch 200/722, Train Loss: 0.3952, Train Accuracy: 85.02%, Activation Function: LeakyReLU(negative_slope=0.01)\n",
            "Epoch 5/5, Batch 300/722, Train Loss: 0.4003, Train Accuracy: 84.95%, Activation Function: LeakyReLU(negative_slope=0.01)\n",
            "Epoch 5/5, Batch 400/722, Train Loss: 0.4197, Train Accuracy: 84.67%, Activation Function: LeakyReLU(negative_slope=0.01)\n",
            "Epoch 5/5, Batch 500/722, Train Loss: 0.4216, Train Accuracy: 84.81%, Activation Function: LeakyReLU(negative_slope=0.01)\n",
            "Epoch 5/5, Batch 600/722, Train Loss: 0.4208, Train Accuracy: 85.17%, Activation Function: LeakyReLU(negative_slope=0.01)\n",
            "Epoch 5/5, Batch 700/722, Train Loss: 0.4107, Train Accuracy: 84.94%, Activation Function: LeakyReLU(negative_slope=0.01)\n",
            "Epoch 1/5, Batch 100/722, Train Loss: 1.9017, Train Accuracy: 47.69%, Activation Function: ELU(alpha=1.0)\n",
            "Epoch 1/5, Batch 200/722, Train Loss: 1.4070, Train Accuracy: 58.80%, Activation Function: ELU(alpha=1.0)\n",
            "Epoch 1/5, Batch 300/722, Train Loss: 1.2481, Train Accuracy: 61.59%, Activation Function: ELU(alpha=1.0)\n",
            "Epoch 1/5, Batch 400/722, Train Loss: 1.1540, Train Accuracy: 64.81%, Activation Function: ELU(alpha=1.0)\n",
            "Epoch 1/5, Batch 500/722, Train Loss: 1.1167, Train Accuracy: 65.70%, Activation Function: ELU(alpha=1.0)\n",
            "Epoch 1/5, Batch 600/722, Train Loss: 1.0776, Train Accuracy: 67.33%, Activation Function: ELU(alpha=1.0)\n",
            "Epoch 1/5, Batch 700/722, Train Loss: 1.0223, Train Accuracy: 68.06%, Activation Function: ELU(alpha=1.0)\n",
            "Epoch 2/5, Batch 100/722, Train Loss: 0.8195, Train Accuracy: 73.73%, Activation Function: ELU(alpha=1.0)\n",
            "Epoch 2/5, Batch 200/722, Train Loss: 0.8325, Train Accuracy: 72.61%, Activation Function: ELU(alpha=1.0)\n",
            "Epoch 2/5, Batch 300/722, Train Loss: 0.7899, Train Accuracy: 74.03%, Activation Function: ELU(alpha=1.0)\n",
            "Epoch 2/5, Batch 400/722, Train Loss: 0.7754, Train Accuracy: 74.59%, Activation Function: ELU(alpha=1.0)\n",
            "Epoch 2/5, Batch 500/722, Train Loss: 0.7349, Train Accuracy: 76.42%, Activation Function: ELU(alpha=1.0)\n",
            "Epoch 2/5, Batch 600/722, Train Loss: 0.6965, Train Accuracy: 77.33%, Activation Function: ELU(alpha=1.0)\n",
            "Epoch 2/5, Batch 700/722, Train Loss: 0.6889, Train Accuracy: 77.86%, Activation Function: ELU(alpha=1.0)\n",
            "Epoch 3/5, Batch 100/722, Train Loss: 0.5768, Train Accuracy: 80.27%, Activation Function: ELU(alpha=1.0)\n",
            "Epoch 3/5, Batch 200/722, Train Loss: 0.6060, Train Accuracy: 79.50%, Activation Function: ELU(alpha=1.0)\n",
            "Epoch 3/5, Batch 300/722, Train Loss: 0.5975, Train Accuracy: 80.02%, Activation Function: ELU(alpha=1.0)\n",
            "Epoch 3/5, Batch 400/722, Train Loss: 0.6186, Train Accuracy: 79.12%, Activation Function: ELU(alpha=1.0)\n",
            "Epoch 3/5, Batch 500/722, Train Loss: 0.6082, Train Accuracy: 79.48%, Activation Function: ELU(alpha=1.0)\n",
            "Epoch 3/5, Batch 600/722, Train Loss: 0.6000, Train Accuracy: 79.09%, Activation Function: ELU(alpha=1.0)\n",
            "Epoch 3/5, Batch 700/722, Train Loss: 0.6455, Train Accuracy: 78.73%, Activation Function: ELU(alpha=1.0)\n",
            "Epoch 4/5, Batch 100/722, Train Loss: 0.4787, Train Accuracy: 82.86%, Activation Function: ELU(alpha=1.0)\n",
            "Epoch 4/5, Batch 200/722, Train Loss: 0.5326, Train Accuracy: 80.97%, Activation Function: ELU(alpha=1.0)\n",
            "Epoch 4/5, Batch 300/722, Train Loss: 0.5178, Train Accuracy: 82.28%, Activation Function: ELU(alpha=1.0)\n",
            "Epoch 4/5, Batch 400/722, Train Loss: 0.5423, Train Accuracy: 80.59%, Activation Function: ELU(alpha=1.0)\n",
            "Epoch 4/5, Batch 500/722, Train Loss: 0.5468, Train Accuracy: 80.98%, Activation Function: ELU(alpha=1.0)\n",
            "Epoch 4/5, Batch 600/722, Train Loss: 0.5640, Train Accuracy: 80.64%, Activation Function: ELU(alpha=1.0)\n",
            "Epoch 4/5, Batch 700/722, Train Loss: 0.5323, Train Accuracy: 81.52%, Activation Function: ELU(alpha=1.0)\n",
            "Epoch 5/5, Batch 100/722, Train Loss: 0.4493, Train Accuracy: 83.78%, Activation Function: ELU(alpha=1.0)\n",
            "Epoch 5/5, Batch 200/722, Train Loss: 0.4622, Train Accuracy: 83.41%, Activation Function: ELU(alpha=1.0)\n",
            "Epoch 5/5, Batch 300/722, Train Loss: 0.4699, Train Accuracy: 83.03%, Activation Function: ELU(alpha=1.0)\n",
            "Epoch 5/5, Batch 400/722, Train Loss: 0.4913, Train Accuracy: 82.20%, Activation Function: ELU(alpha=1.0)\n",
            "Epoch 5/5, Batch 500/722, Train Loss: 0.4723, Train Accuracy: 83.02%, Activation Function: ELU(alpha=1.0)\n",
            "Epoch 5/5, Batch 600/722, Train Loss: 0.4911, Train Accuracy: 82.86%, Activation Function: ELU(alpha=1.0)\n",
            "Epoch 5/5, Batch 700/722, Train Loss: 0.4606, Train Accuracy: 83.48%, Activation Function: ELU(alpha=1.0)\n",
            "best accuracy using the best activation function is: ReLU()  with the training accuracy: 0.8209678815686954\n",
            "Training time: 188.66 seconds\n"
          ]
        }
      ],
      "source": [
        "# splitting the data into train and validation datasets\n",
        "train_size = int(0.8 * len(train_data))\n",
        "val_size = len(train_data) - train_size\n",
        "train_data, val_data = torch.utils.data.random_split(train_data, [train_size, val_size])\n",
        "\n",
        "# loading the  splitted train, validation and test datastes\n",
        "trains = torch.utils.data.DataLoader(train_data, batch_size=64, shuffle=True) # loaded train data \n",
        "validations = torch.utils.data.DataLoader(val_data, batch_size=64, shuffle=False) # loaded validation data \n",
        "tests = torch.utils.data.DataLoader(test_data, batch_size=64, shuffle=False) # loaded test data \n",
        "\n",
        "# store all the losses and accuracies for each iteration/epoch into an empty list\n",
        "train_losses = []\n",
        "train_accs = []\n",
        "valid_losses = []\n",
        "valid_accs = []\n",
        "test_losses = []\n",
        "test_accs =[]\n",
        "\n",
        "# Exploring activation function to find best model for MLP\n",
        "activation_functions = [nn.ReLU(), nn.LeakyReLU(), nn.ELU()]\n",
        "results = {} # storing the activation functions and validation acccuracies in a empty list\n",
        "\n",
        "for function in activation_functions:\n",
        "  model = build_mlp(input_size, output_size, hidden_size, function, dropout, batch_norm, l1_reg, l2_reg)\n",
        "\n",
        "  # Define loss function and optimizer\n",
        "  criterion = nn.CrossEntropyLoss() # defined loss function\n",
        "  optimizer = optim.Adam(model.parameters(), lr=learning_rate) # defined loss function\n",
        "  scheduler = optim.lr_scheduler.StepLR(optimizer, step_size=1, gamma=0.1)  # learning rate scheduler\n",
        "\n",
        "  # Training the model\n",
        "  start_time = time.time() # Model training start time\n",
        "  model.train()\n",
        "\n",
        "  for epoch in range(epochs):\n",
        "    running_loss = 0.0\n",
        "    correct = 0\n",
        "    total = 0\n",
        "    for batch_idx, (images, labels) in enumerate(trains):\n",
        "      # Flatten images into a 784-dim vector\n",
        "      images = images.reshape(-1, input_size)\n",
        "\n",
        "      # Move images and labels to device\n",
        "      images, labels = images.to(device), labels.to(device)\n",
        "      \n",
        "      # Forward pass\n",
        "      outputs = model(images)\n",
        "      loss = criterion(outputs, labels)\n",
        "      \n",
        "      # Backward pass and optimization\n",
        "      optimizer.zero_grad()\n",
        "      loss.backward()\n",
        "      optimizer.step()\n",
        "      \n",
        "      # Calculate training accuracy\n",
        "      predicted = outputs.argmax(dim=1)\n",
        "      total += labels.size(0)\n",
        "      correct += (predicted == labels).sum().item()\n",
        "      \n",
        "      # Print statistics\n",
        "      running_loss += loss.item()\n",
        "      if (batch_idx+1) % 100 == 0:\n",
        "        train_loss = running_loss / 100\n",
        "        train_accuracy = 100 * correct / total\n",
        "        print(f'Epoch {epoch+1}/{epochs}, Batch {batch_idx+1}/{len(trains)}, '\n",
        "            f'Train Loss: {train_loss:.4f}, Train Accuracy: {train_accuracy:.2f}%, Activation Function: {str(function)}')\n",
        "        running_loss = 0.0\n",
        "        correct = 0\n",
        "        total = 0\n",
        "  \n",
        "    # Evaluating on the validation data and calculate the loss and accuracy\n",
        "    valid_loss = 0.0\n",
        "    correct = 0\n",
        "    total = 0\n",
        "\n",
        "    model.eval()\n",
        "    with torch.no_grad():\n",
        "      for images, labels in validations:\n",
        "        images = images.reshape(-1, input_size)\n",
        "        images = images.to(device)  # Move images to device\n",
        "        labels = labels.to(device)  # Move labels to device\n",
        "        outputs = model(images)\n",
        "        loss = criterion(outputs, labels)\n",
        "        valid_loss += loss.item()\n",
        "        predicted = outputs.argmax(dim=1)\n",
        "        total += labels.size(0)\n",
        "        correct += (predicted == labels).sum().item()\n",
        "  \n",
        "    valid_loss /= len(validations.dataset)\n",
        "    valid_acc = correct / total\n",
        "\n",
        "  # Store result in dictionary\n",
        "  results[str(function)] = valid_acc\n",
        "\n",
        "best_train_acc = max(results.values())\n",
        "best_function = [key for key, value in results.items() if value== best_train_acc]\n",
        "print(\"best accuracy using the best activation function is:\", best_function[0], \" with the training accuracy:\", best_train_acc)\n",
        "\n",
        "end_time = time.time() # Model training end time\n",
        "print(f'Training time: {end_time - start_time:.2f} seconds')"
      ]
    },
    {
      "cell_type": "markdown",
      "metadata": {
        "id": "FMNXY7wQcUKL"
      },
      "source": [
        "**1b) Finding the Best Activation Function using Reduce LR On Plateau Learning Rate Scheduler**"
      ]
    },
    {
      "cell_type": "code",
      "execution_count": null,
      "metadata": {
        "colab": {
          "base_uri": "https://localhost:8080/"
        },
        "id": "VcawhHJob-8U",
        "outputId": "184f6514-c33c-42c4-99d2-c034be87a8c3"
      },
      "outputs": [
        {
          "name": "stdout",
          "output_type": "stream",
          "text": [
            "Epoch 1/5, Batch 100/722, Train Loss: 2.1291, Train Accuracy: 43.48%, Activation Function: ReLU()\n",
            "Epoch 1/5, Batch 200/722, Train Loss: 1.2502, Train Accuracy: 62.20%, Activation Function: ReLU()\n",
            "Epoch 1/5, Batch 300/722, Train Loss: 1.1320, Train Accuracy: 65.42%, Activation Function: ReLU()\n",
            "Epoch 1/5, Batch 400/722, Train Loss: 1.0412, Train Accuracy: 67.45%, Activation Function: ReLU()\n",
            "Epoch 1/5, Batch 500/722, Train Loss: 0.9460, Train Accuracy: 69.78%, Activation Function: ReLU()\n",
            "Epoch 1/5, Batch 600/722, Train Loss: 0.9322, Train Accuracy: 70.36%, Activation Function: ReLU()\n",
            "Epoch 1/5, Batch 700/722, Train Loss: 0.8908, Train Accuracy: 71.20%, Activation Function: ReLU()\n",
            "Epoch 2/5, Batch 100/722, Train Loss: 0.7226, Train Accuracy: 76.53%, Activation Function: ReLU()\n",
            "Epoch 2/5, Batch 200/722, Train Loss: 0.6614, Train Accuracy: 77.83%, Activation Function: ReLU()\n",
            "Epoch 2/5, Batch 300/722, Train Loss: 0.6767, Train Accuracy: 77.42%, Activation Function: ReLU()\n",
            "Epoch 2/5, Batch 400/722, Train Loss: 0.6590, Train Accuracy: 77.91%, Activation Function: ReLU()\n",
            "Epoch 2/5, Batch 500/722, Train Loss: 0.6302, Train Accuracy: 78.25%, Activation Function: ReLU()\n",
            "Epoch 2/5, Batch 600/722, Train Loss: 0.6039, Train Accuracy: 79.62%, Activation Function: ReLU()\n",
            "Epoch 2/5, Batch 700/722, Train Loss: 0.6012, Train Accuracy: 79.98%, Activation Function: ReLU()\n",
            "Epoch 3/5, Batch 100/722, Train Loss: 0.5101, Train Accuracy: 82.59%, Activation Function: ReLU()\n",
            "Epoch 3/5, Batch 200/722, Train Loss: 0.5131, Train Accuracy: 81.73%, Activation Function: ReLU()\n",
            "Epoch 3/5, Batch 300/722, Train Loss: 0.5502, Train Accuracy: 81.09%, Activation Function: ReLU()\n",
            "Epoch 3/5, Batch 400/722, Train Loss: 0.5003, Train Accuracy: 82.38%, Activation Function: ReLU()\n",
            "Epoch 3/5, Batch 500/722, Train Loss: 0.5390, Train Accuracy: 80.84%, Activation Function: ReLU()\n",
            "Epoch 3/5, Batch 600/722, Train Loss: 0.5274, Train Accuracy: 81.53%, Activation Function: ReLU()\n",
            "Epoch 3/5, Batch 700/722, Train Loss: 0.5366, Train Accuracy: 81.41%, Activation Function: ReLU()\n",
            "Epoch 4/5, Batch 100/722, Train Loss: 0.4347, Train Accuracy: 84.45%, Activation Function: ReLU()\n",
            "Epoch 4/5, Batch 200/722, Train Loss: 0.4363, Train Accuracy: 83.91%, Activation Function: ReLU()\n",
            "Epoch 4/5, Batch 300/722, Train Loss: 0.4648, Train Accuracy: 83.19%, Activation Function: ReLU()\n",
            "Epoch 4/5, Batch 400/722, Train Loss: 0.4796, Train Accuracy: 83.00%, Activation Function: ReLU()\n",
            "Epoch 4/5, Batch 500/722, Train Loss: 0.4481, Train Accuracy: 84.34%, Activation Function: ReLU()\n",
            "Epoch 4/5, Batch 600/722, Train Loss: 0.4666, Train Accuracy: 83.05%, Activation Function: ReLU()\n",
            "Epoch 4/5, Batch 700/722, Train Loss: 0.4625, Train Accuracy: 83.47%, Activation Function: ReLU()\n",
            "Epoch 5/5, Batch 100/722, Train Loss: 0.3676, Train Accuracy: 86.25%, Activation Function: ReLU()\n",
            "Epoch 5/5, Batch 200/722, Train Loss: 0.4073, Train Accuracy: 84.98%, Activation Function: ReLU()\n",
            "Epoch 5/5, Batch 300/722, Train Loss: 0.4044, Train Accuracy: 85.42%, Activation Function: ReLU()\n",
            "Epoch 5/5, Batch 400/722, Train Loss: 0.4177, Train Accuracy: 85.19%, Activation Function: ReLU()\n",
            "Epoch 5/5, Batch 500/722, Train Loss: 0.4292, Train Accuracy: 84.72%, Activation Function: ReLU()\n",
            "Epoch 5/5, Batch 600/722, Train Loss: 0.4252, Train Accuracy: 84.50%, Activation Function: ReLU()\n",
            "Epoch 5/5, Batch 700/722, Train Loss: 0.4139, Train Accuracy: 84.84%, Activation Function: ReLU()\n",
            "Epoch 1/5, Batch 100/722, Train Loss: 2.1288, Train Accuracy: 43.89%, Activation Function: LeakyReLU(negative_slope=0.01)\n",
            "Epoch 1/5, Batch 200/722, Train Loss: 1.3007, Train Accuracy: 61.47%, Activation Function: LeakyReLU(negative_slope=0.01)\n",
            "Epoch 1/5, Batch 300/722, Train Loss: 1.1255, Train Accuracy: 65.12%, Activation Function: LeakyReLU(negative_slope=0.01)\n",
            "Epoch 1/5, Batch 400/722, Train Loss: 1.0362, Train Accuracy: 68.06%, Activation Function: LeakyReLU(negative_slope=0.01)\n",
            "Epoch 1/5, Batch 500/722, Train Loss: 0.9706, Train Accuracy: 69.30%, Activation Function: LeakyReLU(negative_slope=0.01)\n",
            "Epoch 1/5, Batch 600/722, Train Loss: 0.9269, Train Accuracy: 69.45%, Activation Function: LeakyReLU(negative_slope=0.01)\n",
            "Epoch 1/5, Batch 700/722, Train Loss: 0.8793, Train Accuracy: 71.44%, Activation Function: LeakyReLU(negative_slope=0.01)\n",
            "Epoch 2/5, Batch 100/722, Train Loss: 0.7319, Train Accuracy: 75.41%, Activation Function: LeakyReLU(negative_slope=0.01)\n",
            "Epoch 2/5, Batch 200/722, Train Loss: 0.6908, Train Accuracy: 76.83%, Activation Function: LeakyReLU(negative_slope=0.01)\n",
            "Epoch 2/5, Batch 300/722, Train Loss: 0.6599, Train Accuracy: 77.73%, Activation Function: LeakyReLU(negative_slope=0.01)\n",
            "Epoch 2/5, Batch 400/722, Train Loss: 0.6295, Train Accuracy: 79.23%, Activation Function: LeakyReLU(negative_slope=0.01)\n",
            "Epoch 2/5, Batch 500/722, Train Loss: 0.6258, Train Accuracy: 79.58%, Activation Function: LeakyReLU(negative_slope=0.01)\n",
            "Epoch 2/5, Batch 600/722, Train Loss: 0.6186, Train Accuracy: 79.06%, Activation Function: LeakyReLU(negative_slope=0.01)\n",
            "Epoch 2/5, Batch 700/722, Train Loss: 0.5882, Train Accuracy: 79.61%, Activation Function: LeakyReLU(negative_slope=0.01)\n",
            "Epoch 3/5, Batch 100/722, Train Loss: 0.5165, Train Accuracy: 81.38%, Activation Function: LeakyReLU(negative_slope=0.01)\n",
            "Epoch 3/5, Batch 200/722, Train Loss: 0.5104, Train Accuracy: 81.98%, Activation Function: LeakyReLU(negative_slope=0.01)\n",
            "Epoch 3/5, Batch 300/722, Train Loss: 0.5417, Train Accuracy: 81.31%, Activation Function: LeakyReLU(negative_slope=0.01)\n",
            "Epoch 3/5, Batch 400/722, Train Loss: 0.5270, Train Accuracy: 81.70%, Activation Function: LeakyReLU(negative_slope=0.01)\n",
            "Epoch 3/5, Batch 500/722, Train Loss: 0.5103, Train Accuracy: 82.17%, Activation Function: LeakyReLU(negative_slope=0.01)\n",
            "Epoch 3/5, Batch 600/722, Train Loss: 0.5276, Train Accuracy: 81.53%, Activation Function: LeakyReLU(negative_slope=0.01)\n",
            "Epoch 3/5, Batch 700/722, Train Loss: 0.4982, Train Accuracy: 82.98%, Activation Function: LeakyReLU(negative_slope=0.01)\n",
            "Epoch 4/5, Batch 100/722, Train Loss: 0.4223, Train Accuracy: 84.50%, Activation Function: LeakyReLU(negative_slope=0.01)\n",
            "Epoch 4/5, Batch 200/722, Train Loss: 0.4454, Train Accuracy: 83.89%, Activation Function: LeakyReLU(negative_slope=0.01)\n",
            "Epoch 4/5, Batch 300/722, Train Loss: 0.4567, Train Accuracy: 83.08%, Activation Function: LeakyReLU(negative_slope=0.01)\n",
            "Epoch 4/5, Batch 400/722, Train Loss: 0.4503, Train Accuracy: 83.64%, Activation Function: LeakyReLU(negative_slope=0.01)\n",
            "Epoch 4/5, Batch 500/722, Train Loss: 0.4485, Train Accuracy: 84.30%, Activation Function: LeakyReLU(negative_slope=0.01)\n",
            "Epoch 4/5, Batch 600/722, Train Loss: 0.4884, Train Accuracy: 83.33%, Activation Function: LeakyReLU(negative_slope=0.01)\n",
            "Epoch 4/5, Batch 700/722, Train Loss: 0.4447, Train Accuracy: 83.41%, Activation Function: LeakyReLU(negative_slope=0.01)\n",
            "Epoch 5/5, Batch 100/722, Train Loss: 0.3870, Train Accuracy: 85.89%, Activation Function: LeakyReLU(negative_slope=0.01)\n",
            "Epoch 5/5, Batch 200/722, Train Loss: 0.3649, Train Accuracy: 86.20%, Activation Function: LeakyReLU(negative_slope=0.01)\n",
            "Epoch 5/5, Batch 300/722, Train Loss: 0.4089, Train Accuracy: 84.62%, Activation Function: LeakyReLU(negative_slope=0.01)\n",
            "Epoch 5/5, Batch 400/722, Train Loss: 0.3995, Train Accuracy: 85.20%, Activation Function: LeakyReLU(negative_slope=0.01)\n",
            "Epoch 5/5, Batch 500/722, Train Loss: 0.4219, Train Accuracy: 84.86%, Activation Function: LeakyReLU(negative_slope=0.01)\n",
            "Epoch 5/5, Batch 600/722, Train Loss: 0.4178, Train Accuracy: 85.02%, Activation Function: LeakyReLU(negative_slope=0.01)\n",
            "Epoch 5/5, Batch 700/722, Train Loss: 0.4343, Train Accuracy: 84.47%, Activation Function: LeakyReLU(negative_slope=0.01)\n",
            "Epoch 1/5, Batch 100/722, Train Loss: 1.9208, Train Accuracy: 46.28%, Activation Function: ELU(alpha=1.0)\n",
            "Epoch 1/5, Batch 200/722, Train Loss: 1.4073, Train Accuracy: 59.11%, Activation Function: ELU(alpha=1.0)\n",
            "Epoch 1/5, Batch 300/722, Train Loss: 1.2413, Train Accuracy: 62.20%, Activation Function: ELU(alpha=1.0)\n",
            "Epoch 1/5, Batch 400/722, Train Loss: 1.1742, Train Accuracy: 63.69%, Activation Function: ELU(alpha=1.0)\n",
            "Epoch 1/5, Batch 500/722, Train Loss: 1.1104, Train Accuracy: 65.19%, Activation Function: ELU(alpha=1.0)\n",
            "Epoch 1/5, Batch 600/722, Train Loss: 1.0508, Train Accuracy: 68.20%, Activation Function: ELU(alpha=1.0)\n",
            "Epoch 1/5, Batch 700/722, Train Loss: 1.0414, Train Accuracy: 67.66%, Activation Function: ELU(alpha=1.0)\n",
            "Epoch 2/5, Batch 100/722, Train Loss: 0.8535, Train Accuracy: 73.34%, Activation Function: ELU(alpha=1.0)\n",
            "Epoch 2/5, Batch 200/722, Train Loss: 0.8177, Train Accuracy: 74.17%, Activation Function: ELU(alpha=1.0)\n",
            "Epoch 2/5, Batch 300/722, Train Loss: 0.7551, Train Accuracy: 75.67%, Activation Function: ELU(alpha=1.0)\n",
            "Epoch 2/5, Batch 400/722, Train Loss: 0.7685, Train Accuracy: 74.56%, Activation Function: ELU(alpha=1.0)\n",
            "Epoch 2/5, Batch 500/722, Train Loss: 0.6927, Train Accuracy: 77.16%, Activation Function: ELU(alpha=1.0)\n",
            "Epoch 2/5, Batch 600/722, Train Loss: 0.7280, Train Accuracy: 76.52%, Activation Function: ELU(alpha=1.0)\n",
            "Epoch 2/5, Batch 700/722, Train Loss: 0.7031, Train Accuracy: 76.75%, Activation Function: ELU(alpha=1.0)\n",
            "Epoch 3/5, Batch 100/722, Train Loss: 0.6055, Train Accuracy: 79.08%, Activation Function: ELU(alpha=1.0)\n",
            "Epoch 3/5, Batch 200/722, Train Loss: 0.6080, Train Accuracy: 79.39%, Activation Function: ELU(alpha=1.0)\n",
            "Epoch 3/5, Batch 300/722, Train Loss: 0.6300, Train Accuracy: 78.75%, Activation Function: ELU(alpha=1.0)\n",
            "Epoch 3/5, Batch 400/722, Train Loss: 0.5991, Train Accuracy: 80.14%, Activation Function: ELU(alpha=1.0)\n",
            "Epoch 3/5, Batch 500/722, Train Loss: 0.6212, Train Accuracy: 79.33%, Activation Function: ELU(alpha=1.0)\n",
            "Epoch 3/5, Batch 600/722, Train Loss: 0.6261, Train Accuracy: 79.14%, Activation Function: ELU(alpha=1.0)\n",
            "Epoch 3/5, Batch 700/722, Train Loss: 0.6090, Train Accuracy: 79.47%, Activation Function: ELU(alpha=1.0)\n",
            "Epoch 4/5, Batch 100/722, Train Loss: 0.5044, Train Accuracy: 82.30%, Activation Function: ELU(alpha=1.0)\n",
            "Epoch 4/5, Batch 200/722, Train Loss: 0.5288, Train Accuracy: 81.47%, Activation Function: ELU(alpha=1.0)\n",
            "Epoch 4/5, Batch 300/722, Train Loss: 0.5313, Train Accuracy: 81.88%, Activation Function: ELU(alpha=1.0)\n",
            "Epoch 4/5, Batch 400/722, Train Loss: 0.5259, Train Accuracy: 81.78%, Activation Function: ELU(alpha=1.0)\n",
            "Epoch 4/5, Batch 500/722, Train Loss: 0.5106, Train Accuracy: 82.33%, Activation Function: ELU(alpha=1.0)\n",
            "Epoch 4/5, Batch 600/722, Train Loss: 0.5522, Train Accuracy: 80.95%, Activation Function: ELU(alpha=1.0)\n",
            "Epoch 4/5, Batch 700/722, Train Loss: 0.5334, Train Accuracy: 81.95%, Activation Function: ELU(alpha=1.0)\n",
            "Epoch 5/5, Batch 100/722, Train Loss: 0.4543, Train Accuracy: 83.92%, Activation Function: ELU(alpha=1.0)\n",
            "Epoch 5/5, Batch 200/722, Train Loss: 0.4722, Train Accuracy: 83.03%, Activation Function: ELU(alpha=1.0)\n",
            "Epoch 5/5, Batch 300/722, Train Loss: 0.4776, Train Accuracy: 83.06%, Activation Function: ELU(alpha=1.0)\n",
            "Epoch 5/5, Batch 400/722, Train Loss: 0.4938, Train Accuracy: 82.81%, Activation Function: ELU(alpha=1.0)\n",
            "Epoch 5/5, Batch 500/722, Train Loss: 0.4631, Train Accuracy: 84.02%, Activation Function: ELU(alpha=1.0)\n",
            "Epoch 5/5, Batch 600/722, Train Loss: 0.4897, Train Accuracy: 83.34%, Activation Function: ELU(alpha=1.0)\n",
            "Epoch 5/5, Batch 700/722, Train Loss: 0.4850, Train Accuracy: 82.31%, Activation Function: ELU(alpha=1.0)\n",
            "best accuracy using the best activation function is: ReLU()  with the training accuracy: 0.8156869535105186\n",
            "Training time: 155.54 seconds\n"
          ]
        }
      ],
      "source": [
        "for function in activation_functions:\n",
        "  model = build_mlp(input_size, output_size, hidden_size, function, dropout, batch_norm, l1_reg, l2_reg)\n",
        "\n",
        "  # Define loss function and optimizer\n",
        "  criterion = nn.CrossEntropyLoss() # defined loss function\n",
        "  optimizer = optim.Adam(model.parameters(), lr=learning_rate) # defined loss function\n",
        "  scheduler = optim.lr_scheduler.ReduceLROnPlateau(optimizer, mode='min', factor=0.1, patience=1, verbose=True) # learning rate scheduler\n",
        "\n",
        "  # Training the model\n",
        "  start_time = time.time() # Model training start time\n",
        "  model.train()\n",
        "\n",
        "  for epoch in range(epochs):\n",
        "    running_loss = 0.0\n",
        "    correct = 0\n",
        "    total = 0\n",
        "    for batch_idx, (images, labels) in enumerate(trains):\n",
        "      # Flatten images into a 784-dim vector\n",
        "      images = images.reshape(-1, input_size)\n",
        "\n",
        "      # Move images and labels to device\n",
        "      images, labels = images.to(device), labels.to(device)\n",
        "      \n",
        "      # Forward pass\n",
        "      outputs = model(images)\n",
        "      loss = criterion(outputs, labels)\n",
        "      \n",
        "      # Backward pass and optimization\n",
        "      optimizer.zero_grad()\n",
        "      loss.backward()\n",
        "      optimizer.step()\n",
        "      \n",
        "      # Calculate training accuracy\n",
        "      predicted = outputs.argmax(dim=1)\n",
        "      total += labels.size(0)\n",
        "      correct += (predicted == labels).sum().item()\n",
        "      \n",
        "      # Print statistics\n",
        "      running_loss += loss.item()\n",
        "      if (batch_idx+1) % 100 == 0:\n",
        "        train_loss = running_loss / 100\n",
        "        train_accuracy = 100 * correct / total\n",
        "        print(f'Epoch {epoch+1}/{epochs}, Batch {batch_idx+1}/{len(trains)}, '\n",
        "            f'Train Loss: {train_loss:.4f}, Train Accuracy: {train_accuracy:.2f}%, Activation Function: {str(function)}')\n",
        "        running_loss = 0.0\n",
        "        correct = 0\n",
        "        total = 0\n",
        "  \n",
        "    # Evaluating on the validation data and calculate the loss and accuracy\n",
        "    valid_loss = 0.0\n",
        "    correct = 0\n",
        "    total = 0\n",
        "\n",
        "    model.eval()\n",
        "    with torch.no_grad():\n",
        "      for images, labels in validations:\n",
        "        images = images.reshape(-1, input_size)\n",
        "        images = images.to(device)  # Move images to device\n",
        "        labels = labels.to(device)  # Move labels to device\n",
        "        outputs = model(images)\n",
        "        loss = criterion(outputs, labels)\n",
        "        valid_loss += loss.item()\n",
        "        predicted = outputs.argmax(dim=1)\n",
        "        total += labels.size(0)\n",
        "        correct += (predicted == labels).sum().item()\n",
        "  \n",
        "    valid_loss /= len(validations.dataset)\n",
        "    valid_acc = correct / total\n",
        "      #valid_acc = 100 * correct / total\n",
        "\n",
        "  # Store result in dictionary\n",
        "  results[str(function)] = valid_acc\n",
        "\n",
        "best_train_acc = max(results.values())\n",
        "best_function = [key for key, value in results.items() if value== best_train_acc]\n",
        "print(\"best accuracy using the best activation function is:\", best_function[0], \" with the training accuracy:\", best_train_acc)\n",
        "\n",
        "end_time = time.time() # Model training end time\n",
        "print(f'Training time: {end_time - start_time:.2f} seconds')"
      ]
    },
    {
      "cell_type": "markdown",
      "metadata": {
        "id": "bQ8HMVoqdbyi"
      },
      "source": [
        "**2) Using the Combination of the Best Learning Rate Scheduler and the Activation Function to Find the Best Optimizer**"
      ]
    },
    {
      "cell_type": "code",
      "execution_count": null,
      "metadata": {
        "colab": {
          "base_uri": "https://localhost:8080/"
        },
        "id": "MbLABmjQ49bu",
        "outputId": "28c62863-6213-4102-a8b0-49406f471787"
      },
      "outputs": [
        {
          "name": "stdout",
          "output_type": "stream",
          "text": [
            "Epoch 1/5, Batch 100/722, Train Loss: 2.1363, Train Accuracy: 43.55%, Optimizer: Adam\n",
            "Epoch 1/5, Batch 200/722, Train Loss: 1.2752, Train Accuracy: 61.34%, Optimizer: Adam\n",
            "Epoch 1/5, Batch 300/722, Train Loss: 1.1353, Train Accuracy: 64.72%, Optimizer: Adam\n",
            "Epoch 1/5, Batch 400/722, Train Loss: 1.0317, Train Accuracy: 67.16%, Optimizer: Adam\n",
            "Epoch 1/5, Batch 500/722, Train Loss: 0.9678, Train Accuracy: 69.62%, Optimizer: Adam\n",
            "Epoch 1/5, Batch 600/722, Train Loss: 0.9131, Train Accuracy: 70.31%, Optimizer: Adam\n",
            "Epoch 1/5, Batch 700/722, Train Loss: 0.8971, Train Accuracy: 71.38%, Optimizer: Adam\n",
            "Epoch 2/5, Batch 100/722, Train Loss: 0.7284, Train Accuracy: 75.47%, Optimizer: Adam\n",
            "Epoch 2/5, Batch 200/722, Train Loss: 0.7066, Train Accuracy: 76.27%, Optimizer: Adam\n",
            "Epoch 2/5, Batch 300/722, Train Loss: 0.6489, Train Accuracy: 78.28%, Optimizer: Adam\n",
            "Epoch 2/5, Batch 400/722, Train Loss: 0.6230, Train Accuracy: 79.34%, Optimizer: Adam\n",
            "Epoch 2/5, Batch 500/722, Train Loss: 0.6200, Train Accuracy: 78.69%, Optimizer: Adam\n",
            "Epoch 2/5, Batch 600/722, Train Loss: 0.6204, Train Accuracy: 79.62%, Optimizer: Adam\n",
            "Epoch 2/5, Batch 700/722, Train Loss: 0.5943, Train Accuracy: 80.48%, Optimizer: Adam\n",
            "Epoch 3/5, Batch 100/722, Train Loss: 0.5170, Train Accuracy: 81.83%, Optimizer: Adam\n",
            "Epoch 3/5, Batch 200/722, Train Loss: 0.5202, Train Accuracy: 81.92%, Optimizer: Adam\n",
            "Epoch 3/5, Batch 300/722, Train Loss: 0.5193, Train Accuracy: 81.72%, Optimizer: Adam\n",
            "Epoch 3/5, Batch 400/722, Train Loss: 0.5231, Train Accuracy: 82.19%, Optimizer: Adam\n",
            "Epoch 3/5, Batch 500/722, Train Loss: 0.5162, Train Accuracy: 81.78%, Optimizer: Adam\n",
            "Epoch 3/5, Batch 600/722, Train Loss: 0.5032, Train Accuracy: 82.91%, Optimizer: Adam\n",
            "Epoch 3/5, Batch 700/722, Train Loss: 0.5409, Train Accuracy: 80.75%, Optimizer: Adam\n",
            "Epoch 4/5, Batch 100/722, Train Loss: 0.4193, Train Accuracy: 85.02%, Optimizer: Adam\n",
            "Epoch 4/5, Batch 200/722, Train Loss: 0.4460, Train Accuracy: 83.94%, Optimizer: Adam\n",
            "Epoch 4/5, Batch 300/722, Train Loss: 0.4801, Train Accuracy: 82.98%, Optimizer: Adam\n",
            "Epoch 4/5, Batch 400/722, Train Loss: 0.4485, Train Accuracy: 83.25%, Optimizer: Adam\n",
            "Epoch 4/5, Batch 500/722, Train Loss: 0.4634, Train Accuracy: 84.00%, Optimizer: Adam\n",
            "Epoch 4/5, Batch 600/722, Train Loss: 0.4566, Train Accuracy: 83.59%, Optimizer: Adam\n",
            "Epoch 4/5, Batch 700/722, Train Loss: 0.4623, Train Accuracy: 83.50%, Optimizer: Adam\n",
            "Epoch 5/5, Batch 100/722, Train Loss: 0.3998, Train Accuracy: 85.31%, Optimizer: Adam\n",
            "Epoch 5/5, Batch 200/722, Train Loss: 0.3849, Train Accuracy: 85.44%, Optimizer: Adam\n",
            "Epoch 5/5, Batch 300/722, Train Loss: 0.4107, Train Accuracy: 85.28%, Optimizer: Adam\n",
            "Epoch 5/5, Batch 400/722, Train Loss: 0.3988, Train Accuracy: 85.16%, Optimizer: Adam\n",
            "Epoch 5/5, Batch 500/722, Train Loss: 0.4372, Train Accuracy: 84.16%, Optimizer: Adam\n",
            "Epoch 5/5, Batch 600/722, Train Loss: 0.4185, Train Accuracy: 84.52%, Optimizer: Adam\n",
            "Epoch 5/5, Batch 700/722, Train Loss: 0.4309, Train Accuracy: 84.17%, Optimizer: Adam\n",
            "Epoch 1/5, Batch 100/722, Train Loss: 3.9211, Train Accuracy: 2.30%, Optimizer: SGD\n",
            "Epoch 1/5, Batch 200/722, Train Loss: 3.8539, Train Accuracy: 3.53%, Optimizer: SGD\n",
            "Epoch 1/5, Batch 300/722, Train Loss: 3.7850, Train Accuracy: 4.73%, Optimizer: SGD\n",
            "Epoch 1/5, Batch 400/722, Train Loss: 3.7163, Train Accuracy: 6.67%, Optimizer: SGD\n",
            "Epoch 1/5, Batch 500/722, Train Loss: 3.6411, Train Accuracy: 9.61%, Optimizer: SGD\n",
            "Epoch 1/5, Batch 600/722, Train Loss: 3.5903, Train Accuracy: 11.48%, Optimizer: SGD\n",
            "Epoch 1/5, Batch 700/722, Train Loss: 3.5250, Train Accuracy: 13.28%, Optimizer: SGD\n",
            "Epoch 2/5, Batch 100/722, Train Loss: 3.2392, Train Accuracy: 31.52%, Optimizer: SGD\n",
            "Epoch 2/5, Batch 200/722, Train Loss: 2.8528, Train Accuracy: 37.38%, Optimizer: SGD\n",
            "Epoch 2/5, Batch 300/722, Train Loss: 2.3938, Train Accuracy: 44.86%, Optimizer: SGD\n",
            "Epoch 2/5, Batch 400/722, Train Loss: 2.0239, Train Accuracy: 49.33%, Optimizer: SGD\n",
            "Epoch 2/5, Batch 500/722, Train Loss: 1.7399, Train Accuracy: 53.33%, Optimizer: SGD\n",
            "Epoch 2/5, Batch 600/722, Train Loss: 1.5643, Train Accuracy: 56.69%, Optimizer: SGD\n",
            "Epoch 2/5, Batch 700/722, Train Loss: 1.4172, Train Accuracy: 60.50%, Optimizer: SGD\n",
            "Epoch 3/5, Batch 100/722, Train Loss: 1.3309, Train Accuracy: 62.64%, Optimizer: SGD\n",
            "Epoch 3/5, Batch 200/722, Train Loss: 1.3145, Train Accuracy: 62.52%, Optimizer: SGD\n",
            "Epoch 3/5, Batch 300/722, Train Loss: 1.2402, Train Accuracy: 63.98%, Optimizer: SGD\n",
            "Epoch 3/5, Batch 400/722, Train Loss: 1.2207, Train Accuracy: 65.42%, Optimizer: SGD\n",
            "Epoch 3/5, Batch 500/722, Train Loss: 1.2244, Train Accuracy: 65.11%, Optimizer: SGD\n",
            "Epoch 3/5, Batch 600/722, Train Loss: 1.1658, Train Accuracy: 67.41%, Optimizer: SGD\n",
            "Epoch 3/5, Batch 700/722, Train Loss: 1.1107, Train Accuracy: 67.41%, Optimizer: SGD\n",
            "Epoch 4/5, Batch 100/722, Train Loss: 1.0665, Train Accuracy: 69.17%, Optimizer: SGD\n",
            "Epoch 4/5, Batch 200/722, Train Loss: 1.0655, Train Accuracy: 68.52%, Optimizer: SGD\n",
            "Epoch 4/5, Batch 300/722, Train Loss: 1.0405, Train Accuracy: 70.58%, Optimizer: SGD\n",
            "Epoch 4/5, Batch 400/722, Train Loss: 0.9925, Train Accuracy: 70.83%, Optimizer: SGD\n",
            "Epoch 4/5, Batch 500/722, Train Loss: 1.0009, Train Accuracy: 70.66%, Optimizer: SGD\n",
            "Epoch 4/5, Batch 600/722, Train Loss: 1.0181, Train Accuracy: 69.94%, Optimizer: SGD\n",
            "Epoch 4/5, Batch 700/722, Train Loss: 0.9730, Train Accuracy: 72.19%, Optimizer: SGD\n",
            "Epoch 5/5, Batch 100/722, Train Loss: 0.9158, Train Accuracy: 73.80%, Optimizer: SGD\n",
            "Epoch 5/5, Batch 200/722, Train Loss: 0.9416, Train Accuracy: 72.30%, Optimizer: SGD\n",
            "Epoch 5/5, Batch 300/722, Train Loss: 0.9192, Train Accuracy: 72.91%, Optimizer: SGD\n",
            "Epoch 5/5, Batch 400/722, Train Loss: 0.9012, Train Accuracy: 73.11%, Optimizer: SGD\n",
            "Epoch 5/5, Batch 500/722, Train Loss: 0.8873, Train Accuracy: 73.12%, Optimizer: SGD\n",
            "Epoch 5/5, Batch 600/722, Train Loss: 0.8784, Train Accuracy: 73.86%, Optimizer: SGD\n",
            "Epoch 5/5, Batch 700/722, Train Loss: 0.8714, Train Accuracy: 74.64%, Optimizer: SGD\n",
            "Epoch 1/5, Batch 100/722, Train Loss: 2.9801, Train Accuracy: 29.72%, Optimizer: Adagrad\n",
            "Epoch 1/5, Batch 200/722, Train Loss: 2.3241, Train Accuracy: 45.80%, Optimizer: Adagrad\n",
            "Epoch 1/5, Batch 300/722, Train Loss: 2.0076, Train Accuracy: 52.98%, Optimizer: Adagrad\n",
            "Epoch 1/5, Batch 400/722, Train Loss: 1.8036, Train Accuracy: 56.09%, Optimizer: Adagrad\n",
            "Epoch 1/5, Batch 500/722, Train Loss: 1.6924, Train Accuracy: 57.69%, Optimizer: Adagrad\n",
            "Epoch 1/5, Batch 600/722, Train Loss: 1.5945, Train Accuracy: 59.25%, Optimizer: Adagrad\n",
            "Epoch 1/5, Batch 700/722, Train Loss: 1.5097, Train Accuracy: 61.11%, Optimizer: Adagrad\n",
            "Epoch 2/5, Batch 100/722, Train Loss: 1.0589, Train Accuracy: 68.89%, Optimizer: Adagrad\n",
            "Epoch 2/5, Batch 200/722, Train Loss: 0.9565, Train Accuracy: 71.80%, Optimizer: Adagrad\n",
            "Epoch 2/5, Batch 300/722, Train Loss: 0.9070, Train Accuracy: 72.06%, Optimizer: Adagrad\n",
            "Epoch 2/5, Batch 400/722, Train Loss: 0.9030, Train Accuracy: 72.61%, Optimizer: Adagrad\n",
            "Epoch 2/5, Batch 500/722, Train Loss: 0.8226, Train Accuracy: 74.22%, Optimizer: Adagrad\n",
            "Epoch 2/5, Batch 600/722, Train Loss: 0.8134, Train Accuracy: 73.89%, Optimizer: Adagrad\n",
            "Epoch 2/5, Batch 700/722, Train Loss: 0.7850, Train Accuracy: 75.14%, Optimizer: Adagrad\n",
            "Epoch 3/5, Batch 100/722, Train Loss: 0.7243, Train Accuracy: 77.14%, Optimizer: Adagrad\n",
            "Epoch 3/5, Batch 200/722, Train Loss: 0.7084, Train Accuracy: 78.02%, Optimizer: Adagrad\n",
            "Epoch 3/5, Batch 300/722, Train Loss: 0.7288, Train Accuracy: 77.28%, Optimizer: Adagrad\n",
            "Epoch 3/5, Batch 400/722, Train Loss: 0.6903, Train Accuracy: 78.66%, Optimizer: Adagrad\n",
            "Epoch 3/5, Batch 500/722, Train Loss: 0.6739, Train Accuracy: 78.28%, Optimizer: Adagrad\n",
            "Epoch 3/5, Batch 600/722, Train Loss: 0.6574, Train Accuracy: 78.91%, Optimizer: Adagrad\n",
            "Epoch 3/5, Batch 700/722, Train Loss: 0.6269, Train Accuracy: 80.52%, Optimizer: Adagrad\n",
            "Epoch 4/5, Batch 100/722, Train Loss: 0.6021, Train Accuracy: 80.64%, Optimizer: Adagrad\n",
            "Epoch 4/5, Batch 200/722, Train Loss: 0.6106, Train Accuracy: 80.86%, Optimizer: Adagrad\n",
            "Epoch 4/5, Batch 300/722, Train Loss: 0.6195, Train Accuracy: 80.12%, Optimizer: Adagrad\n",
            "Epoch 4/5, Batch 400/722, Train Loss: 0.6091, Train Accuracy: 80.62%, Optimizer: Adagrad\n",
            "Epoch 4/5, Batch 500/722, Train Loss: 0.5869, Train Accuracy: 81.33%, Optimizer: Adagrad\n",
            "Epoch 4/5, Batch 600/722, Train Loss: 0.5799, Train Accuracy: 81.11%, Optimizer: Adagrad\n",
            "Epoch 4/5, Batch 700/722, Train Loss: 0.5684, Train Accuracy: 81.52%, Optimizer: Adagrad\n",
            "Epoch 5/5, Batch 100/722, Train Loss: 0.5447, Train Accuracy: 82.69%, Optimizer: Adagrad\n",
            "Epoch 5/5, Batch 200/722, Train Loss: 0.5366, Train Accuracy: 82.45%, Optimizer: Adagrad\n",
            "Epoch 5/5, Batch 300/722, Train Loss: 0.5533, Train Accuracy: 82.28%, Optimizer: Adagrad\n",
            "Epoch 5/5, Batch 400/722, Train Loss: 0.5352, Train Accuracy: 82.81%, Optimizer: Adagrad\n",
            "Epoch 5/5, Batch 500/722, Train Loss: 0.5246, Train Accuracy: 82.69%, Optimizer: Adagrad\n",
            "Epoch 5/5, Batch 600/722, Train Loss: 0.5483, Train Accuracy: 83.17%, Optimizer: Adagrad\n",
            "Epoch 5/5, Batch 700/722, Train Loss: 0.5341, Train Accuracy: 82.34%, Optimizer: Adagrad\n",
            "best accuracy using the best optimizer is: Adam  with the training accuracy: 0.8106657432256947\n",
            "Training time: 563.54 seconds\n"
          ]
        }
      ],
      "source": [
        "best_function = nn.ReLU()\n",
        "\n",
        "# Define the hyperparameters to tune\n",
        "optimizers = ['Adam', 'SGD', 'Adagrad']\n",
        "\n",
        "# Initialize empty lists to store the results\n",
        "results = {}\n",
        "best_optimizer = None\n",
        "best_tr_acc = 0\n",
        "\n",
        "# Loop through each optimizer in the list and train the model with it\n",
        "for op in optimizers:\n",
        "\n",
        "  # Create MLP network\n",
        "  model = build_mlp(input_size, output_size, hidden_size, best_function, dropout, batch_norm, l1_reg, l2_reg)\n",
        "  \n",
        "  # Define loss function and optimizer\n",
        "  criterion = nn.CrossEntropyLoss()\n",
        "  if op == 'Adam':\n",
        "    optimizer = optim.Adam(model.parameters(), lr=learning_rate)\n",
        "  elif op == 'SGD':\n",
        "    optimizer = optim.SGD(model.parameters(), lr=learning_rate)\n",
        "  elif op== 'Adagrad':\n",
        "    optimizer = optim.Adagrad(model.parameters(), lr=learning_rate)\n",
        "  else:\n",
        "    raise ValueError('Invalid optimizer')\n",
        "      \n",
        "  # Define the learning rate scheduler\n",
        "  scheduler = optim.lr_scheduler.StepLR(optimizer, step_size=1, gamma=0.1)\n",
        "  \n",
        "  # Train the network\n",
        "  for epoch in range(epochs):\n",
        "    running_loss = 0.0\n",
        "    correct = 0\n",
        "    total = 0\n",
        "    for batch_idx, (images, labels) in enumerate(trains):\n",
        "      # Flatten images into a 784-dim vector\n",
        "      images = images.reshape(-1, input_size)\n",
        "\n",
        "      # Move images and labels to device\n",
        "      images, labels = images.to(device), labels.to(device)\n",
        "      \n",
        "      # Forward pass\n",
        "      outputs = model(images)\n",
        "      loss = criterion(outputs, labels)\n",
        "      \n",
        "      # Backward pass and optimization\n",
        "      optimizer.zero_grad()\n",
        "      loss.backward()\n",
        "      optimizer.step()\n",
        "      \n",
        "      # Calculate training accuracy\n",
        "      predicted = outputs.argmax(dim=1)\n",
        "      total += labels.size(0)\n",
        "      correct += (predicted == labels).sum().item()\n",
        "      \n",
        "      # Print statistics\n",
        "      running_loss += loss.item()\n",
        "      if (batch_idx+1) % 100 == 0:\n",
        "        train_loss = running_loss / 100\n",
        "        train_accuracy = 100 * correct / total\n",
        "        print(f'Epoch {epoch+1}/{epochs}, Batch {batch_idx+1}/{len(trains)}, '\n",
        "            f'Train Loss: {train_loss:.4f}, Train Accuracy: {train_accuracy:.2f}%, Optimizer: {str(op)}')\n",
        "        running_loss = 0.0\n",
        "        correct = 0\n",
        "        total = 0\n",
        "\n",
        "    # Evaluating on the validation data and calculate the loss and accuracy\n",
        "    valid_loss = 0.0\n",
        "    valid_acc = 0.0\n",
        "    correct = 0\n",
        "    total = 0\n",
        "\n",
        "    model.eval()\n",
        "    with torch.no_grad():\n",
        "      for images, labels in validations:\n",
        "        images = images.reshape(-1, input_size)\n",
        "        images = images.to(device)  # Move images to device\n",
        "        labels = labels.to(device)  # Move labels to device\n",
        "        outputs = model(images)\n",
        "        loss = criterion(outputs, labels)\n",
        "        valid_loss += loss.item()\n",
        "        predicted = outputs.argmax(dim=1)\n",
        "        total += labels.size(0)\n",
        "        correct += (predicted == labels).sum().item()\n",
        "    \n",
        "    valid_loss /= len(validations.dataset)\n",
        "    valid_acc = correct / total\n",
        "    #valid_acc = 100 * correct / total\n",
        "\n",
        "  # Store result in dictionary\n",
        "  results[str(op)] = valid_acc\n",
        "\n",
        "best_tr_acc = max(results.values())\n",
        "best_optimizer = [key for key, value in results.items() if value== best_tr_acc]\n",
        "print(\"best accuracy using the best optimizer is:\", best_optimizer[0], \" with the training accuracy:\", best_tr_acc)\n",
        "\n",
        "end_time = time.time() # Model training end time\n",
        "print(f'Training time: {end_time - start_time:.2f} seconds')\n"
      ]
    },
    {
      "cell_type": "markdown",
      "metadata": {
        "id": "oiB81JQ0EgJ9"
      },
      "source": [
        "**3) Using the Combination of the Best Learning Rate Scheduler, Activation Function, and Optimizer to Find Whether to Set Batch Normalization to True/False**"
      ]
    },
    {
      "cell_type": "code",
      "execution_count": null,
      "metadata": {
        "colab": {
          "base_uri": "https://localhost:8080/"
        },
        "id": "1FI2bb_T4LHb",
        "outputId": "1961501d-d13f-47c6-a1f1-7797f1bdf511"
      },
      "outputs": [
        {
          "name": "stdout",
          "output_type": "stream",
          "text": [
            "Epoch 1/5, Batch 100/722, Train Loss: 2.1235, Train Accuracy: 43.39%, Batch Normalisation: True\n",
            "Epoch 1/5, Batch 200/722, Train Loss: 1.2929, Train Accuracy: 61.39%, Batch Normalisation: True\n",
            "Epoch 1/5, Batch 300/722, Train Loss: 1.1272, Train Accuracy: 64.19%, Batch Normalisation: True\n",
            "Epoch 1/5, Batch 400/722, Train Loss: 1.0423, Train Accuracy: 67.09%, Batch Normalisation: True\n",
            "Epoch 1/5, Batch 500/722, Train Loss: 0.9836, Train Accuracy: 69.16%, Batch Normalisation: True\n",
            "Epoch 1/5, Batch 600/722, Train Loss: 0.9477, Train Accuracy: 69.88%, Batch Normalisation: True\n",
            "Epoch 1/5, Batch 700/722, Train Loss: 0.8865, Train Accuracy: 72.25%, Batch Normalisation: True\n",
            "Epoch 2/5, Batch 100/722, Train Loss: 0.7411, Train Accuracy: 75.81%, Batch Normalisation: True\n",
            "Epoch 2/5, Batch 200/722, Train Loss: 0.6778, Train Accuracy: 77.11%, Batch Normalisation: True\n",
            "Epoch 2/5, Batch 300/722, Train Loss: 0.6870, Train Accuracy: 77.12%, Batch Normalisation: True\n",
            "Epoch 2/5, Batch 400/722, Train Loss: 0.6396, Train Accuracy: 77.91%, Batch Normalisation: True\n",
            "Epoch 2/5, Batch 500/722, Train Loss: 0.6247, Train Accuracy: 78.94%, Batch Normalisation: True\n",
            "Epoch 2/5, Batch 600/722, Train Loss: 0.6122, Train Accuracy: 79.36%, Batch Normalisation: True\n",
            "Epoch 2/5, Batch 700/722, Train Loss: 0.6170, Train Accuracy: 79.80%, Batch Normalisation: True\n",
            "Epoch 3/5, Batch 100/722, Train Loss: 0.5253, Train Accuracy: 81.20%, Batch Normalisation: True\n",
            "Epoch 3/5, Batch 200/722, Train Loss: 0.5375, Train Accuracy: 81.36%, Batch Normalisation: True\n",
            "Epoch 3/5, Batch 300/722, Train Loss: 0.5047, Train Accuracy: 82.84%, Batch Normalisation: True\n",
            "Epoch 3/5, Batch 400/722, Train Loss: 0.5131, Train Accuracy: 81.62%, Batch Normalisation: True\n",
            "Epoch 3/5, Batch 500/722, Train Loss: 0.5342, Train Accuracy: 81.50%, Batch Normalisation: True\n",
            "Epoch 3/5, Batch 600/722, Train Loss: 0.5102, Train Accuracy: 82.25%, Batch Normalisation: True\n",
            "Epoch 3/5, Batch 700/722, Train Loss: 0.5321, Train Accuracy: 81.48%, Batch Normalisation: True\n",
            "Epoch 4/5, Batch 100/722, Train Loss: 0.4245, Train Accuracy: 84.50%, Batch Normalisation: True\n",
            "Epoch 4/5, Batch 200/722, Train Loss: 0.4326, Train Accuracy: 84.50%, Batch Normalisation: True\n",
            "Epoch 4/5, Batch 300/722, Train Loss: 0.4614, Train Accuracy: 83.42%, Batch Normalisation: True\n",
            "Epoch 4/5, Batch 400/722, Train Loss: 0.4494, Train Accuracy: 84.03%, Batch Normalisation: True\n",
            "Epoch 4/5, Batch 500/722, Train Loss: 0.4733, Train Accuracy: 82.89%, Batch Normalisation: True\n",
            "Epoch 4/5, Batch 600/722, Train Loss: 0.4816, Train Accuracy: 82.92%, Batch Normalisation: True\n",
            "Epoch 4/5, Batch 700/722, Train Loss: 0.4562, Train Accuracy: 83.34%, Batch Normalisation: True\n",
            "Epoch 5/5, Batch 100/722, Train Loss: 0.3805, Train Accuracy: 86.75%, Batch Normalisation: True\n",
            "Epoch 5/5, Batch 200/722, Train Loss: 0.4081, Train Accuracy: 85.56%, Batch Normalisation: True\n",
            "Epoch 5/5, Batch 300/722, Train Loss: 0.3716, Train Accuracy: 86.05%, Batch Normalisation: True\n",
            "Epoch 5/5, Batch 400/722, Train Loss: 0.4343, Train Accuracy: 84.36%, Batch Normalisation: True\n",
            "Epoch 5/5, Batch 500/722, Train Loss: 0.4008, Train Accuracy: 85.31%, Batch Normalisation: True\n",
            "Epoch 5/5, Batch 600/722, Train Loss: 0.4225, Train Accuracy: 84.33%, Batch Normalisation: True\n",
            "Epoch 5/5, Batch 700/722, Train Loss: 0.4233, Train Accuracy: 84.56%, Batch Normalisation: True\n"
          ]
        }
      ],
      "source": [
        "best_function = nn.ReLU()\n",
        "norms = [True, False]\n",
        "result = {}\n",
        "#trying each activation dunction for the model\n",
        "for norm in norms:\n",
        "  model = build_mlp(input_size, output_size, hidden_size, nn.ReLU(), dropout, norm, l1_reg, l2_reg)\n",
        "\n",
        "  # Define loss function and optimizer\n",
        "  criterion = nn.CrossEntropyLoss() # defined loss function\n",
        "  optimizer = optim.Adam(model.parameters(), lr=learning_rate) # defined loss function\n",
        "  scheduler = optim.lr_scheduler.StepLR(optimizer, step_size=1, gamma=0.1)  # learning rate scheduler\n",
        "\n",
        "  # Training the model\n",
        "  start_time = time.time() # Model training start time\n",
        "  model.train()\n",
        "\n",
        "  for epoch in range(epochs):\n",
        "    running_loss = 0.0\n",
        "    correct = 0\n",
        "    total = 0\n",
        "    for batch_idx, (images, labels) in enumerate(trains):\n",
        "      # Flatten images into a 784-dim vector\n",
        "      images = images.reshape(-1, input_size)\n",
        "\n",
        "      # Move images and labels to device\n",
        "      images, labels = images.to(device), labels.to(device)\n",
        "      \n",
        "      # Forward pass\n",
        "      outputs = model(images)\n",
        "      loss = criterion(outputs, labels)\n",
        "      \n",
        "      # Backward pass and optimization\n",
        "      optimizer.zero_grad()\n",
        "      loss.backward()\n",
        "      optimizer.step()\n",
        "      \n",
        "      # Calculate training accuracy\n",
        "      predicted = outputs.argmax(dim=1)\n",
        "      total += labels.size(0)\n",
        "      correct += (predicted == labels).sum().item()\n",
        "      \n",
        "      # Print statistics\n",
        "      running_loss += loss.item()\n",
        "      if (batch_idx+1) % 100 == 0:\n",
        "        train_loss = running_loss / 100\n",
        "        train_accuracy = 100 * correct / total\n",
        "        print(f'Epoch {epoch+1}/{epochs}, Batch {batch_idx+1}/{len(trains)}, '\n",
        "            f'Train Loss: {train_loss:.4f}, Train Accuracy: {train_accuracy:.2f}%, Batch Normalisation: {str(norm)}')\n",
        "        running_loss = 0.0\n",
        "        correct = 0\n",
        "        total = 0\n",
        "  \n",
        "    # Evaluating on the validation data and calculate the loss and accuracy\n",
        "    valid_loss = 0.0\n",
        "    correct = 0\n",
        "    total = 0\n",
        "\n",
        "    model.eval()\n",
        "    with torch.no_grad():\n",
        "      for images, labels in validations:\n",
        "        images = images.reshape(-1, input_size)\n",
        "        images = images.to(device)  # Move images to device\n",
        "        labels = labels.to(device)  # Move labels to device\n",
        "        outputs = model(images)\n",
        "        loss = criterion(outputs, labels)\n",
        "        valid_loss += loss.item()\n",
        "        predicted = outputs.argmax(dim=1)\n",
        "        total += labels.size(0)\n",
        "        correct += (predicted == labels).sum().item()\n",
        "  \n",
        "    valid_loss /= len(validations.dataset)\n",
        "    valid_acc = correct / total\n",
        "      #valid_acc = 100 * correct / total\n",
        "\n",
        "  # Store result in dictionary\n",
        "  result[str(norm)] = valid_acc\n",
        "\n",
        "best_acc = max(results.values())\n",
        "best_norm = [key for key, value in results.items() if value== best_acc]\n",
        "print(\"best accuracy with batch normalisation condition is:\", best_norm[0], \" with the training accuracy:\", best_acc)\n",
        "\n",
        "end_time = time.time() # Model training end time\n",
        "print(f'Training time: {end_time - start_time:.2f} seconds')"
      ]
    },
    {
      "cell_type": "markdown",
      "metadata": {
        "id": "UA1TTdSgFHVs"
      },
      "source": [
        "**4) Using the Combination of the Best Learning Rate Scheduler, Activation Function,Optimizer, and the Set Up of Batch Normalization to find the Best Regularisation to Adopt**\n",
        "\n",
        "\n",
        "*   Exploring the model using three options regularisation options: (without L1&L2 regularization, with L1 regularization, with L2 regularization).\n",
        "\n"
      ]
    },
    {
      "cell_type": "code",
      "execution_count": null,
      "metadata": {
        "id": "PzOgX8ycE9Nm"
      },
      "outputs": [],
      "source": [
        "best_function = nn.ReLU()\n",
        "best_norm = True\n",
        "\n",
        "l1_reg = 0.01\n",
        "l2_reg = 0.01\n",
        "regularisations = [(None, None), (l1_reg, None), (None, l2_reg)]\n",
        "reg_result = {}\n",
        "\n",
        "# trying each regularization option for the model\n",
        "for l1, l2 in regularisations:\n",
        "  if l1 is None and l2 is None:  # no regularization\n",
        "    model = build_mlp(input_size, output_size, hidden_size, best_function, dropout, best_norm, None, None)\n",
        "  elif l1 is not None:  # only L1 regularization\n",
        "    model = build_mlp(input_size, output_size, hidden_size, best_function, dropout, best_norm, l1, None)\n",
        "  else:  # only L2 regularization\n",
        "    model = build_mlp(input_size, output_size, hidden_size, best_function, dropout, best_norm, None, l2)\n",
        "\n",
        "  # Define loss function and optimizer\n",
        "  criterion = nn.CrossEntropyLoss() # defined loss function\n",
        "  optimizer = optim.Adam(model.parameters(), lr=learning_rate) # defined optimizer\n",
        "  scheduler = optim.lr_scheduler.StepLR(optimizer, step_size=1, gamma=0.1)  # learning rate scheduler\n",
        "\n",
        "  # Training the model\n",
        "  start_time = time.time() # Model training start time\n",
        "  model.train()\n",
        "\n",
        "  for epoch in range(epochs):\n",
        "    running_loss = 0.0\n",
        "    correct = 0\n",
        "    total = 0\n",
        "    for batch_idx, (images, labels) in enumerate(trains):\n",
        "      # Flatten images into a 784-dim vector\n",
        "      images = images.reshape(-1, input_size)\n",
        "\n",
        "      # Move images and labels to device\n",
        "      images, labels = images.to(device), labels.to(device)\n",
        "\n",
        "      # Forward pass\n",
        "      outputs = model(images)\n",
        "      loss = criterion(outputs, labels)\n",
        "\n",
        "      # Backward pass and optimization\n",
        "      optimizer.zero_grad()\n",
        "      loss.backward()\n",
        "      optimizer.step()\n",
        "\n",
        "      # Calculate training accuracy\n",
        "      predicted = outputs.argmax(dim=1)\n",
        "      total += labels.size(0)\n",
        "      correct += (predicted == labels).sum().item()\n",
        "\n",
        "      # Print statistics\n",
        "      running_loss += loss.item()\n",
        "      if (batch_idx+1) % 100 == 0:\n",
        "        train_loss = running_loss / 100\n",
        "        train_accuracy = 100 * correct / total\n",
        "        print(f'Epoch {epoch+1}/{epochs}, Batch {batch_idx+1}/{len(trains)}, '\n",
        "            f'Train Loss: {train_loss:.4f}, Train Accuracy: {train_accuracy:.2f}%, Regularisation: {str((l1, l2))}')\n",
        "        \n",
        "        correct = 0\n",
        "        total = 0\n",
        "\n",
        "    # Evaluating on the validation data and calculate the loss and accuracy\n",
        "    valid_loss = 0.0\n",
        "    correct = 0\n",
        "    total = 0\n",
        "\n",
        "    model.eval()\n",
        "    with torch.no_grad():\n",
        "        for images, labels in validations:\n",
        "          images = images.reshape(-1, input_size)\n",
        "          images = images.to(device)  # Move images to device\n",
        "          labels = labels.to(device)  # Move labels to device\n",
        "          outputs = model(images)\n",
        "          loss = criterion(outputs, labels)\n",
        "          valid_loss += loss.item()\n",
        "          predicted = outputs.argmax(dim=1)\n",
        "          total += labels.size(0)\n",
        "          correct += (predicted == labels).sum().item()\n",
        "\n",
        "    valid_loss /= len(validations.dataset)\n",
        "    valid_acc = correct / total\n",
        "\n",
        "  # Store result in dictionary\n",
        "  reg_result[str((l1, l2))] = valid_acc\n",
        "\n",
        "best_reg_acc = max(reg_result.values())\n",
        "best_reg = [key for key, value in reg_result.items() if value == best_reg_acc]\n",
        "print(\"Best accuracy with regularization conditions is:\", best_reg[0], \" with the train accuracy:\", best_reg_acc)\n",
        "\n",
        "end_time = time.time() # Model training end time\n",
        "print(f'Training time: {end_time - start_time:.2f} seconds')\n"
      ]
    },
    {
      "cell_type": "markdown",
      "metadata": {
        "id": "EUE8_o0UTBZY"
      },
      "source": [
        "**5) Using the Combination of the Best Learning Rate Scheduler, Activation Function,Optimizer, the Set Up of Batch Normalization, and the Set Up of Regularisation in order to Find the Dropout to Adopt**"
      ]
    },
    {
      "cell_type": "code",
      "execution_count": null,
      "metadata": {
        "id": "wk8I0-seTX04"
      },
      "outputs": [],
      "source": [
        "best_function = nn.ReLU()\n",
        "batch_norm = True\n",
        "droupout = [0.0, 0.2]\n",
        "dp_results = {}\n",
        "\n",
        "\n",
        "#trying each activation function for the model\n",
        "for drop in droupout:\n",
        "  model = build_mlp(input_size, output_size, hidden_size, nn.ReLU(), drop, True, None, None)\n",
        "\n",
        "  # Define loss function and optimizer\n",
        "  criterion = nn.CrossEntropyLoss() # defined loss function\n",
        "  optimizer = optim.Adam(model.parameters(), lr=learning_rate) # defined optimizer\n",
        "  scheduler = optim.lr_scheduler.StepLR(optimizer, step_size=1, gamma=0.1)  # learning rate scheduler\n",
        "\n",
        "  # Training the model\n",
        "  start_time = time.time() # Model training start time\n",
        "  model.train()\n",
        "\n",
        "  for epoch in range(epochs):\n",
        "    running_loss = 0.0\n",
        "    correct = 0\n",
        "    total = 0\n",
        "    for batch_idx, (images, labels) in enumerate(trains):\n",
        "      # Flatten images into a 784-dim vector\n",
        "      images = images.reshape(-1, input_size)\n",
        "\n",
        "      # Move images and labels to device\n",
        "      images, labels = images.to(device), labels.to(device)\n",
        "\n",
        "      # Forward pass\n",
        "      outputs = model(images)\n",
        "      loss = criterion(outputs, labels)\n",
        "\n",
        "      # Backward pass and optimization\n",
        "      optimizer.zero_grad()\n",
        "      loss.backward()\n",
        "      optimizer.step()\n",
        "\n",
        "      # Calculate training accuracy\n",
        "      predicted = outputs.argmax(dim=1)\n",
        "      total += labels.size(0)\n",
        "      correct += (predicted == labels).sum().item()\n",
        "\n",
        "      # Print statistics\n",
        "      running_loss += loss.item()\n",
        "      if (batch_idx+1) % 100 == 0:\n",
        "        train_loss = running_loss / 100\n",
        "        train_accuracy = 100 * correct / total\n",
        "        print(f'Epoch {epoch+1}/{epochs}, Batch {batch_idx+1}/{len(trains)}, '\n",
        "            f'Train Loss: {train_loss:.4f}, Train Accuracy: {train_accuracy:.2f}%, Dropout: {str(drop)}')\n",
        "        running_loss = 0.0\n",
        "        correct = 0\n",
        "        total = 0\n",
        "\n",
        "    # Evaluating on the validation data and calculate the loss and accuracy\n",
        "    valid_loss = 0.0\n",
        "    correct = 0\n",
        "    total = 0\n",
        "\n",
        "    model.eval()\n",
        "    with torch.no_grad():\n",
        "        for images, labels in validations:\n",
        "          images = images.reshape(-1, input_size)\n",
        "          images = images.to(device)  # Move images to device\n",
        "          labels = labels.to(device)  # Move labels to device\n",
        "          outputs = model(images)\n",
        "          loss = criterion(outputs, labels)\n",
        "          valid_loss += loss.item()\n",
        "          predicted = outputs.argmax(dim=1)\n",
        "          total += labels.size(0)\n",
        "          correct += (predicted == labels).sum().item()\n",
        "\n",
        "    valid_loss /= len(validations.dataset)\n",
        "    valid_acc = correct / total\n",
        "\n",
        "  # Store result in dictionary\n",
        "  dp_results[str((drop))] = valid_acc\n",
        "\n",
        "best_acc = max(dp_results.values())\n",
        "best_dropout = [key for key, value in dp_results.items() if value == best_acc]\n",
        "print(\"Best accuracy with regularization conditions is:\", best_dropout[0], \" with the train accuracy:\", best_acc)\n",
        "\n",
        "end_time = time.time() # Model training end time\n",
        "print(f'Training time: {end_time - start_time:.2f} seconds')\n"
      ]
    },
    {
      "cell_type": "markdown",
      "metadata": {
        "id": "Y3JqjtOijKDb"
      },
      "source": [
        "**Training the Model Using the Best Hyperparamters Combinations Which Are:**\n",
        "\n",
        "\n",
        "1.  Best Activation Function = nn.ReLU()\n",
        "2.  Best Optimizer = Adam\n",
        "3.  Batch Normalisation = True\n",
        "4.  Regularisation = None\n",
        "5.  Dropout = 0.2\n",
        "\n"
      ]
    },
    {
      "cell_type": "code",
      "execution_count": null,
      "metadata": {
        "colab": {
          "base_uri": "https://localhost:8080/",
          "height": 440
        },
        "id": "dMX1mPgy_gsJ",
        "outputId": "e25a2a95-2a69-4e2b-dc7f-d56a1a01b4df"
      },
      "outputs": [
        {
          "data": {
            "image/png": "[encoded data removed]",
            "text/plain": [
              "<Figure size 1200x400 with 2 Axes>"
            ]
          },
          "metadata": {},
          "output_type": "display_data"
        },
        {
          "name": "stdout",
          "output_type": "stream",
          "text": [
            "Test accuracy: 0.8365\n",
            "Training time: 188.76 seconds\n",
            "True Labels:  [14, 36, 37, 29, 32, 27]\n",
            "Pred Labels:  [14, 36, 37, 29, 32, 39]\n"
          ]
        }
      ],
      "source": [
        "# Define a function to build the MLP model with different hyperparameters and techniques\n",
        "def build_mlp(input_size, output_size, hidden_size, activation_func, dropout, batch_norm, l1_reg, l2_reg):\n",
        "  layers = [] # empty list to hold the four hidden layers\n",
        "  prev_size = input_size\n",
        "  for size in hidden_size:\n",
        "    layers.append(nn.Linear(prev_size, size))\n",
        "    if batch_norm:\n",
        "      layers.append(nn.BatchNorm1d(size))\n",
        "    layers.append(activation_func)\n",
        "    if dropout:\n",
        "      layers.append(nn.Dropout(dropout))\n",
        "    prev_size = size\n",
        "  layers.append(nn.Linear(prev_size, hidden_size[-1]))\n",
        "  if batch_norm:\n",
        "      layers.append(nn.BatchNorm1d(hidden_size[-1]))\n",
        "  layers.append(activation_func)\n",
        "  if dropout:\n",
        "      layers.append(nn.Dropout(dropout))\n",
        "  layers.append(nn.Linear(hidden_size[-1], hidden_size[-1]))\n",
        "  if batch_norm:\n",
        "      layers.append(nn.BatchNorm1d(hidden_size[-1]))\n",
        "  layers.append(activation_func)\n",
        "  if dropout:\n",
        "      layers.append(nn.Dropout(dropout))\n",
        "  layers.append(nn.Linear(hidden_size[-1], hidden_size[-1]))\n",
        "  if batch_norm:\n",
        "      layers.append(nn.BatchNorm1d(hidden_size[-1]))\n",
        "  layers.append(activation_func)\n",
        "  if dropout:\n",
        "      layers.append(nn.Dropout(dropout))\n",
        "  layers.append(nn.Linear(hidden_size[-1], output_size))\n",
        "  return nn.Sequential(*layers)\n",
        "\n",
        "def train_mlp(model, train_data, learning_rate, optimizer_func, \n",
        "              l1_weight, l2_weight, batch_size, num_epochs, device):\n",
        "    # Define loss function and optimizer\n",
        "    loss_fn = nn.CrossEntropyLoss()\n",
        "    optimizer = optimizer_func(model.parameters(), lr=learning_rate, weight_decay=l2_weight)\n",
        "\n",
        "    # Define the K-fold cross validation\n",
        "    kfold = KFold(n_splits=5, shuffle=True, random_state=42)\n",
        "    train_losses = []\n",
        "    train_accs = []\n",
        "    valid_losses = []\n",
        "    valid_accs = []\n",
        "    start_time = time.time()\n",
        "    for fold, (train_ids, valid_ids) in enumerate(kfold.split(train_data)):\n",
        "       \n",
        "        # Split data\n",
        "        train_subsampler = torch.utils.data.SubsetRandomSampler(train_ids)\n",
        "        valid_subsampler = torch.utils.data.SubsetRandomSampler(valid_ids)\n",
        "        train_loader = DataLoader(train_data, batch_size=batch_size, sampler=train_subsampler)\n",
        "        valid_loader = DataLoader(train_data, batch_size=batch_size, sampler=valid_subsampler)\n",
        "\n",
        "        # Initialize training variables\n",
        "        train_loss = 0.0\n",
        "        train_acc = 0.0\n",
        "        valid_loss = 0.0\n",
        "        valid_acc = 0.0\n",
        "\n",
        "        # Train the model\n",
        "        model.train()\n",
        "        for epoch in range(num_epochs):\n",
        "            for x, y in train_loader:\n",
        "                x, y = x.to(device), y.to(device)\n",
        "                optimizer.zero_grad()\n",
        "                y_pred = model(x.view(x.shape[0], -1)) #passing the feed forward\n",
        "                loss = loss_fn(y_pred, y)\n",
        "                loss.backward()\n",
        "                optimizer.step()\n",
        "                train_loss += loss.item() * x.shape[0]\n",
        "                train_acc += (y_pred.argmax(1) == y).sum().item()\n",
        "            train_loss /= len(train_loader.sampler)\n",
        "            train_acc /= len(train_loader.sampler)\n",
        "            train_losses.append(train_loss)\n",
        "            train_accs.append(train_acc)\n",
        "\n",
        "        # Evaluate on validation set\n",
        "        model.eval()\n",
        "        with torch.no_grad():\n",
        "            for x, y in valid_loader:\n",
        "                x, y = x.to(device), y.to(device)\n",
        "                y_pred = model(x.view(x.shape[0], -1))\n",
        "                loss = loss_fn(y_pred, y)\n",
        "                valid_loss += loss.item() * x.shape[0]\n",
        "                valid_acc += (y_pred.argmax(1) == y).sum().item()\n",
        "            valid_loss /= len(valid_loader.sampler)\n",
        "            valid_acc /= len(valid_loader.sampler)\n",
        "            valid_losses.append(valid_loss)\n",
        "            valid_accs.append(valid_acc)\n",
        "\n",
        "    end_time = time.time()\n",
        "    train_time = end_time - start_time\n",
        "    return train_losses, train_accs, valid_losses, valid_accs, train_time\n",
        "\n",
        "def train_best_model(train_data, test_data, hidden_size=[512], activation_func=nn.ReLU(),\n",
        "                     dropout=0.2, batch_norm=True, l1_reg=0.0, l2_reg=0.0, learning_rate=0.001,\n",
        "                     optimizer_func=torch.optim.Adam, batch_size=64, num_epochs=10, device=torch.device('cpu')):\n",
        "  try:\n",
        "    # Define model\n",
        "    input_size = train_data[0][0].shape[0] * train_data[0][0].shape[1] * train_data[0][0].shape[2]\n",
        "    output_size = len(train_data.classes)\n",
        "    model = build_mlp(input_size, output_size, hidden_size, activation_func, dropout, batch_norm, l1_reg, l2_reg)\n",
        "    model.to(device)\n",
        "\n",
        "    # Train model with cross-validation\n",
        "    train_losses, train_accs, valid_losses, valid_accs, train_time = train_mlp(model, train_data, learning_rate,\n",
        "                                                                             optimizer_func, l1_reg, l2_reg, batch_size,\n",
        "                                                                             num_epochs, device)\n",
        "\n",
        "    # Plot loss and accuracy graphs for the training process\n",
        "    plt.figure(figsize=(12, 4))\n",
        "    plt.subplot(1, 2, 1)\n",
        "    plt.plot(train_losses, label='Training Loss')\n",
        "    plt.plot(valid_losses, label='Validation Loss')\n",
        "    plt.xlabel('Iterations')\n",
        "    plt.ylabel('Loss')\n",
        "    plt.legend()\n",
        "\n",
        "    plt.subplot(1, 2, 2)\n",
        "    plt.plot(train_accs, label='Training Accuracy')\n",
        "    plt.plot(valid_accs, label='Validation Accuracy')\n",
        "    plt.xlabel('Iterations')\n",
        "    plt.ylabel('Accuracy')\n",
        "    plt.legend()\n",
        "    plt.show()\n",
        "\n",
        "    # Evaluate model on test set\n",
        "    model.eval()\n",
        "    with torch.no_grad():\n",
        "        #test_loader = DataLoader(test_data, batch_size=batch_size, shuffle=True)\n",
        "        test_loader = torch.utils.data.DataLoader(test_data, batch_size=64, shuffle=True)\n",
        "        true_labels = []\n",
        "        pred_labels = []\n",
        "        test_acc = 0.0\n",
        "        for x, y in test_loader:\n",
        "            x, y = x.to(device), y.to(device)\n",
        "            y_pred = model(x.view(x.shape[0], -1))\n",
        "            true_labels.extend(y.tolist())\n",
        "            pred_labels.extend(y_pred.argmax(1).tolist())\n",
        "            test_acc += (y_pred.argmax(1) == y).sum().item()\n",
        "        test_acc /= len(test_loader.sampler)\n",
        "    print(f'Test accuracy: {test_acc:.4f}')\n",
        "    print(f'Training time: {train_time:.2f} seconds')\n",
        "\n",
        "    # Print the true and predicted labels for the top six samples in the testing dataset\n",
        "    print(\"True Labels: \", true_labels[:6])\n",
        "    print(\"Pred Labels: \", pred_labels[:6])\n",
        "   \n",
        "#print(train_dataset[0][0].shape) # Expected shape: (1, 28, 28)\n",
        "#print(test_dataset[0][0].shape) # Expected shape: (1, 28, 28)\n",
        "\n",
        "train_dataset1 = torch.utils.data.Subset(train_data, range(0, 1000))\n",
        "test_dataset1 = torch.utils.data.Subset(test_data, range(0, 10))\n",
        "\n",
        "\n",
        "mlp_params = train_best_model(train_dataset1.dataset, test_dataset1.dataset, hidden_size=[512], \n",
        "                 activation_func=nn.ReLU(), dropout=0.2, batch_norm=True, l1_reg=0.0, \n",
        "                 l2_reg=0.0, learning_rate=0.001, optimizer_func=torch.optim.Adam, \n",
        "                 batch_size=64, num_epochs=1, device=torch.device('cpu'));"
      ]
    },
    {
      "cell_type": "markdown",
      "metadata": {
        "id": "AfK88-_0KiDP"
      },
      "source": [
        "**Step 5**\n",
        "CNN"
      ]
    },
    {
      "cell_type": "code",
      "execution_count": null,
      "metadata": {
        "id": "UXx9XAJ-njuE"
      },
      "outputs": [],
      "source": [
        "# Define a function to build the CNN model with different hyperparameters and techniques\n",
        "def build_cnn(input_shape, output_size, num_filters, filter_sizes, pooling_sizes,\n",
        "              activation_func, dropout, batch_norm, l1_reg, l2_reg):\n",
        "    if activation_func == 'relu':\n",
        "       activation_func = nn.ReLU()\n",
        "    elif activation_func == 'sigmoid':\n",
        "       activation_func = nn.Sigmoid()\n",
        "    elif activation_func == 'tanh':\n",
        "       activation_func = nn.Tanh()\n",
        "    elif activation_func == 'softmax':\n",
        "       activation_func = nn.Softmax()\n",
        "    elif activation_func == 'softplus':\n",
        "       activation_func = nn.Softplus()\n",
        "    elif activation_func == 'elu':\n",
        "       activation_func = nn.ELU()\n",
        "    else:\n",
        "       raise ValueError('Unsupported activation function:', activation_func)\n",
        "    layers = []\n",
        "    prev_filters = input_shape[0]\n",
        "    for i, (filters, filter_size, pooling_size) in enumerate(zip(num_filters, filter_sizes, pooling_sizes)):\n",
        "        layers.append(nn.Conv2d(prev_filters, filters, filter_size))\n",
        "        if batch_norm:\n",
        "            layers.append(nn.BatchNorm2d(filters))\n",
        "        layers.append(activation_func)\n",
        "        layers.append(nn.MaxPool2d(pooling_size))\n",
        "        if dropout:\n",
        "            layers.append(nn.Dropout(dropout))\n",
        "        prev_filters = filters\n",
        "    layers.append(nn.Flatten())\n",
        "    '''prev_filters * input_shape[1] // 2**(len(num_filters)*2)'''\n",
        "    layers.append(nn.Linear(input_shape[1]*input_shape[2], output_size))\n",
        "    return nn.Sequential(*layers)\n",
        "\n",
        "\n",
        "def train_cnn(model, train_data, learning_rate, optimizer_func, \n",
        "              l1_weight, l2_weight, batch_size, num_epochs, device):\n",
        "    # Define loss function and optimizer\n",
        "    loss_fn = nn.CrossEntropyLoss()\n",
        "    optimizer = optimizer_func(model.parameters(), lr=learning_rate, weight_decay=l2_weight)\n",
        "\n",
        "    # Define the K-fold cross validation\n",
        "    kfold = KFold(n_splits=5, shuffle=True, random_state=42)\n",
        "    train_losses = []\n",
        "    train_accs = []\n",
        "    valid_losses = []\n",
        "    valid_accs = []\n",
        "    start_time = time.time()\n",
        "    for fold, (train_ids, valid_ids) in enumerate(kfold.split(train_data)):\n",
        "        # Split data\n",
        "        train_subsampler = torch.utils.data.SubsetRandomSampler(train_ids)\n",
        "        valid_subsampler = torch.utils.data.SubsetRandomSampler(valid_ids)\n",
        "        train_loader = DataLoader(train_data, batch_size=batch_size, sampler=train_subsampler)\n",
        "        valid_loader = DataLoader(train_data, batch_size=batch_size, sampler=valid_subsampler)\n",
        "\n",
        "        # Initialize training variables\n",
        "        train_loss = 0.0\n",
        "        train_acc = 0.0\n",
        "        valid_loss = 0.0\n",
        "        valid_acc = 0.0\n",
        "\n",
        "        # Train the model\n",
        "        model.train()\n",
        "        for epoch in range(num_epochs):\n",
        "            for x, y in train_loader:\n",
        "                x, y = x.to(device), y.to(device)\n",
        "                optimizer.zero_grad()\n",
        "                y_pred = model(x)\n",
        "                loss = loss_fn(y_pred, y)\n",
        "                loss.backward()\n",
        "                optimizer.step()\n",
        "                train_loss += loss.item() * x.shape[0]\n",
        "                train_acc += (y_pred.argmax(1) == y).sum().item()\n",
        "            train_loss /= len(train_loader.sampler)\n",
        "            train_acc /= len(train_loader.sampler)\n",
        "            train_losses.append(train_loss)\n",
        "            train_accs.append(train_acc)\n",
        "\n",
        "        # Evaluate on validation set\n",
        "        model.eval()\n",
        "        with torch.no_grad():\n",
        "            for x, y in valid_loader:\n",
        "                x, y = x.to(device), y.to(device)\n",
        "                y_pred = model(x)\n",
        "                loss = loss_fn(y_pred, y)\n",
        "                valid_loss += loss.item() * x.shape[0]\n",
        "                valid_acc += (y_pred.argmax(1) == y).sum().item()\n",
        "            valid_loss /= len(valid_loader.sampler)\n",
        "            valid_acc /= len(valid_loader.sampler)\n",
        "            valid_losses.append(valid_loss)\n",
        "            valid_accs.append(valid_acc)\n",
        "\n",
        "    end_time = time.time()\n",
        "    train_time = end_time - start_time\n",
        "    return train_losses, train_accs, valid_losses, valid_accs, train_time\n",
        "\n",
        "\n",
        "def train_best_model_cnn(train_data, test_data, input_shape=(1, 28, 28), output_size=10,\n",
        "                         num_filters=[32, 64], filter_sizes=[5, 5], pooling_sizes=[2, 2], activation_func=\"relu\",\n",
        "                         dropout=0.0, batch_norm=False, l1_reg=0.0, l2_reg=0.0, learning_rate=0.001, optimizer_func=torch.optim.Adam,\n",
        "                         l1_weight=0.0, l2_weight=0.0, batch_size=64, num_epochs=10, device=torch.device('cpu')):\n",
        "  # Build the model\n",
        "  model = build_cnn(input_shape, output_size, num_filters, \n",
        "                    filter_sizes, pooling_sizes, activation_func, \n",
        "                    dropout, batch_norm, l1_reg, l2_reg)\n",
        "  # Train the model\n",
        "  train_losses, train_accs, valid_losses, valid_accs, train_time = train_cnn(model, train_data, \n",
        "                                                                             learning_rate, optimizer_func, \n",
        "                                                                             l1_weight, l2_weight, batch_size, \n",
        "                                                                             num_epochs, device)\n",
        "\n",
        "  # Evaluate on test set\n",
        "  test_loader = DataLoader(test_data, batch_size=batch_size)\n",
        "  model.eval()\n",
        "  with torch.no_grad():\n",
        "      test_loss = 0.0\n",
        "      test_acc = 0.0\n",
        "      true_labels = []\n",
        "      pred_labels = []\n",
        "      x_test = []\n",
        "      for x, y in test_loader:\n",
        "          x, y = x.to(device), y.to(device)\n",
        "          y_pred = model(x)\n",
        "          loss = nn.CrossEntropyLoss()(y_pred, y)\n",
        "          test_loss += loss.item() * x.shape[0]\n",
        "          test_acc += (y_pred.argmax(1) == y).sum().item()\n",
        "          true_labels.extend(y.cpu().numpy())\n",
        "          pred_labels.extend(y_pred.argmax(1).cpu().numpy())\n",
        "          x_test.append(x.cpu().numpy())\n",
        "      test_loss /= len(test_loader.dataset)\n",
        "      test_acc /= len(test_loader.dataset)\n",
        "\n",
        "  # Print results\n",
        "  print(f\"Train loss: {train_losses[-1]:.4f} | Train accuracy: {train_accs[-1]*100:.2f}%\")\n",
        "  print(f\"Valid loss: {valid_losses[-1]:.4f} | Valid accuracy: {valid_accs[-1]*100:.2f}%\")\n",
        "  print(f\"Test loss: {test_loss:.4f} | Test accuracy: {test_acc*100:.2f}%\")\n",
        "  print(f\"Train time: {train_time:.2f} seconds\")\n",
        "\n",
        "\n",
        "  return (model, true_labels, pred_labels, \n",
        "          train_losses, train_accs, valid_losses, valid_accs, test_loss, test_acc, train_time, x_test)\n"
      ]
    },
    {
      "cell_type": "markdown",
      "metadata": {
        "id": "Bauehuv9BX33"
      },
      "source": [
        "Checking for the best activation function"
      ]
    },
    {
      "cell_type": "code",
      "execution_count": null,
      "metadata": {
        "colab": {
          "base_uri": "https://localhost:8080/"
        },
        "id": "5sLKAOjBBcd2",
        "outputId": "dc85a23c-95df-4f3b-c1ca-6cc36d0db0b1"
      },
      "outputs": [
        {
          "name": "stdout",
          "output_type": "stream",
          "text": [
            "activation function sigmoid\n",
            "Train loss: 0.4076 | Train accuracy: 86.30%\n",
            "Valid loss: 0.4062 | Valid accuracy: 86.47%\n",
            "Test loss: 0.4604 | Test accuracy: 84.99%\n",
            "Train time: 559.56 seconds\n",
            "activation function relu\n",
            "Train loss: 0.3102 | Train accuracy: 88.70%\n",
            "Valid loss: 0.3010 | Valid accuracy: 88.94%\n",
            "Test loss: 0.3711 | Test accuracy: 87.22%\n",
            "Train time: 520.69 seconds\n"
          ]
        }
      ],
      "source": [
        "train_dataset1 = torch.utils.data.Subset(train_data, range(0, 1000))\n",
        "test_dataset1 = torch.utils.data.Subset(test_data, range(0, 10))\n",
        "activations = ['sigmoid', 'relu']\n",
        "cnn_params_array = []\n",
        "for func in activations:\n",
        "  print(f'activation function {func}')\n",
        "  cnn_params = train_best_model_cnn(train_data = train_dataset1.dataset, test_data = test_dataset1.dataset, input_shape=(1, 28, 28), output_size=47,\n",
        "                         num_filters=[32, 49], filter_sizes=[ 5, 5], pooling_sizes=[2, 2], activation_func=func,\n",
        "                         dropout=0.0, batch_norm=False, l1_reg=0.0, l2_reg=0.0, learning_rate=0.001, optimizer_func=torch.optim.Adam,\n",
        "                         l1_weight=0.0, l2_weight=0.0, batch_size=47, num_epochs=1, device=torch.device('cpu'))\n",
        "  cnn_params_array.append(cnn_params)"
      ]
    },
    {
      "cell_type": "markdown",
      "metadata": {
        "id": "qkw4juxcBlkr"
      },
      "source": [
        "Batch Normalization with the best activation function"
      ]
    },
    {
      "cell_type": "code",
      "execution_count": null,
      "metadata": {
        "colab": {
          "base_uri": "https://localhost:8080/"
        },
        "id": "CJmoKniwBqOt",
        "outputId": "ebb50f77-29e9-402a-d3cb-b17b168cca7e"
      },
      "outputs": [
        {
          "name": "stdout",
          "output_type": "stream",
          "text": [
            "Batch :False\n",
            "Train loss: 0.3008 | Train accuracy: 89.03%\n",
            "Valid loss: 0.3080 | Valid accuracy: 88.49%\n",
            "Test loss: 0.3825 | Test accuracy: 86.64%\n",
            "Train time: 528.65 seconds\n",
            "Batch :True\n",
            "Train loss: 0.3128 | Train accuracy: 88.67%\n",
            "Valid loss: 0.3041 | Valid accuracy: 88.99%\n",
            "Test loss: 0.3674 | Test accuracy: 87.50%\n",
            "Train time: 596.21 seconds\n"
          ]
        }
      ],
      "source": [
        "batch = [False, True]\n",
        "best_activation = 'relu'\n",
        "cnn_params_array = []\n",
        "for b in batch:\n",
        "  print(f'Batch :{b}')\n",
        "  cnn_params = train_best_model_cnn(train_data = train_dataset1.dataset, test_data = test_dataset1.dataset, input_shape=(1, 28, 28), output_size=47,\n",
        "                         num_filters=[32, 49], filter_sizes=[ 5, 5], pooling_sizes=[2, 2], activation_func='relu',\n",
        "                         dropout=0.0, batch_norm=b, l1_reg=0.0, l2_reg=0.0, learning_rate=0.001, optimizer_func=torch.optim.Adam,\n",
        "                         l1_weight=0.0, l2_weight=0.0, batch_size=47, num_epochs=1, device=torch.device('cpu'))\n",
        "  cnn_params_array.append(cnn_params)"
      ]
    },
    {
      "cell_type": "markdown",
      "metadata": {
        "id": "5JFrYZMVOT30"
      },
      "source": [
        "A combination with the different learning rates"
      ]
    },
    {
      "cell_type": "code",
      "execution_count": null,
      "metadata": {
        "colab": {
          "base_uri": "https://localhost:8080/"
        },
        "id": "9qIEGYRrS8I-",
        "outputId": "46fbccd9-7b11-49b2-e078-70114488bd03"
      },
      "outputs": [
        {
          "name": "stdout",
          "output_type": "stream",
          "text": [
            "Learning Rate : 0.01\n",
            "Train loss: 0.3278 | Train accuracy: 88.20%\n",
            "Valid loss: 0.3076 | Valid accuracy: 88.91%\n",
            "Test loss: 0.3764 | Test accuracy: 87.15%\n",
            "Train time: 594.98 seconds\n",
            "Learning Rate : 0.1\n",
            "Train loss: 0.9063 | Train accuracy: 72.47%\n",
            "Valid loss: 1.0342 | Valid accuracy: 70.02%\n",
            "Test loss: 1.0444 | Test accuracy: 69.54%\n",
            "Train time: 587.84 seconds\n",
            "Learning Rate : 1\n",
            "Train loss: 4.3109 | Train accuracy: 2.09%\n",
            "Valid loss: 4.0282 | Valid accuracy: 2.26%\n",
            "Test loss: 4.0302 | Test accuracy: 2.13%\n",
            "Train time: 586.75 seconds\n"
          ]
        }
      ],
      "source": [
        "learning_rate = [0.01, 0.1, 1]\n",
        "best_bn = True\n",
        "cnn_params_array = []\n",
        "for l_r in learning_rate:\n",
        "  print(f'Learning Rate : {l_r}')\n",
        "  cnn_params = train_best_model_cnn(train_data = train_dataset1.dataset, test_data = test_dataset1.dataset, input_shape=(1, 28, 28), output_size=47,\n",
        "                         num_filters=[32, 49], filter_sizes=[ 5, 5], pooling_sizes=[2, 2], activation_func='relu',\n",
        "                         dropout=0.0, batch_norm=True, l1_reg=0.0, l2_reg=0.0, learning_rate=l_r, optimizer_func=torch.optim.Adam,\n",
        "                         l1_weight=0.0, l2_weight=0.0, batch_size=47, num_epochs=1, device=torch.device('cpu'))\n",
        "  cnn_params_array.append(cnn_params)"
      ]
    },
    {
      "cell_type": "markdown",
      "metadata": {
        "id": "k7iVVD4qcoyz"
      },
      "source": [
        "A combination with different dropout values"
      ]
    },
    {
      "cell_type": "code",
      "execution_count": null,
      "metadata": {
        "colab": {
          "base_uri": "https://localhost:8080/"
        },
        "id": "ySTf9MNBc0zf",
        "outputId": "03c6aa35-f462-49b9-ac1b-ddaf23d23af6"
      },
      "outputs": [
        {
          "name": "stdout",
          "output_type": "stream",
          "text": [
            "Dropout Rate : 0.1\n",
            "Train loss: 0.3391 | Train accuracy: 87.93%\n",
            "Valid loss: 0.3021 | Valid accuracy: 89.34%\n",
            "Test loss: 0.3489 | Test accuracy: 87.88%\n",
            "Train time: 596.19 seconds\n",
            "Dropout Rate : 0.5\n",
            "Train loss: 0.4866 | Train accuracy: 83.61%\n",
            "Valid loss: 0.3647 | Valid accuracy: 87.37%\n",
            "Test loss: 0.3905 | Test accuracy: 86.65%\n",
            "Train time: 571.42 seconds\n",
            "Dropout Rate : 1\n",
            "Train loss: 3.8505 | Train accuracy: 2.01%\n",
            "Valid loss: 297.6638 | Valid accuracy: 1.99%\n",
            "Test loss: 296.8509 | Test accuracy: 1.99%\n",
            "Train time: 572.76 seconds\n"
          ]
        }
      ],
      "source": [
        "Dropout_rate = [0.1, 0.5, 1]\n",
        "best_learning_rate = 0.001\n",
        "cnn_params_array = []\n",
        "for d_r in Dropout_rate:\n",
        "  print(f'Dropout Rate : {d_r}')\n",
        "  cnn_params = train_best_model_cnn(train_data = train_dataset1.dataset, test_data = test_dataset1.dataset, input_shape=(1, 28, 28), output_size=47,\n",
        "                         num_filters=[32, 49], filter_sizes=[ 5, 5], pooling_sizes=[2, 2], activation_func='relu',\n",
        "                         dropout=d_r, batch_norm=True, l1_reg=0.0, l2_reg=0.0, learning_rate=0.001, optimizer_func=torch.optim.Adam,\n",
        "                         l1_weight=0.0, l2_weight=0.0, batch_size=47, num_epochs=1, device=torch.device('cpu'))\n",
        "  cnn_params_array.append(cnn_params)"
      ]
    },
    {
      "cell_type": "markdown",
      "metadata": {
        "id": "QXxlQTiipKJV"
      },
      "source": [
        "Combination with different epochs"
      ]
    },
    {
      "cell_type": "code",
      "execution_count": null,
      "metadata": {
        "colab": {
          "background_save": true,
          "base_uri": "https://localhost:8080/"
        },
        "id": "LZJaHGOppPon",
        "outputId": "15d163e5-9bf3-4d61-925c-137e11243759"
      },
      "outputs": [
        {
          "name": "stdout",
          "output_type": "stream",
          "text": [
            "Epoch : 2\n",
            "Train loss: 3.8505 | Train accuracy: 2.00%\n",
            "Valid loss: 301.6857 | Valid accuracy: 2.06%\n",
            "Test loss: 300.9781 | Test accuracy: 2.13%\n",
            "Train time: 1140.09 seconds\n",
            "Epoch : 3\n",
            "Train loss: 3.8505 | Train accuracy: 2.06%\n",
            "Valid loss: 249.9863 | Valid accuracy: 2.89%\n",
            "Test loss: 248.9464 | Test accuracy: 2.77%\n",
            "Train time: 1600.96 seconds\n"
          ]
        }
      ],
      "source": [
        "epochs = [2, 3]\n",
        "best_dropout_rate = 0.1\n",
        "cnn_params_array = []\n",
        "for epoch in epochs:\n",
        "  print(f'Epoch : {epoch}')\n",
        "  cnn_params = train_best_model_cnn(train_data = train_dataset1.dataset, test_data = test_dataset1.dataset, input_shape=(1, 28, 28), output_size=47,\n",
        "                         num_filters=[32, 49], filter_sizes=[ 5, 5], pooling_sizes=[2, 2], activation_func='relu',\n",
        "                         dropout=d_r, batch_norm=True, l1_reg=0.0, l2_reg=0.0, learning_rate=0.001, optimizer_func=torch.optim.Adam,\n",
        "                         l1_weight=0.0, l2_weight=0.0, batch_size=47, num_epochs= epoch, device=torch.device('cpu'))\n",
        "  cnn_params_array.append(cnn_params)"
      ]
    },
    {
      "cell_type": "markdown",
      "metadata": {
        "id": "gq-v5BPoLI9o"
      },
      "source": [
        "Plotting CNN"
      ]
    },
    {
      "cell_type": "code",
      "execution_count": null,
      "metadata": {
        "colab": {
          "base_uri": "https://localhost:8080/",
          "height": 1000
        },
        "id": "w2Cu6u3Wo3QI",
        "outputId": "71dc0e19-7032-4fe9-a74e-ae54873b005a"
      },
      "outputs": [
        {
          "name": "stdout",
          "output_type": "stream",
          "text": [
            "\n"
          ]
        },
        {
          "data": {
            "image/png": "[encoded data removed]",
            "text/plain": [
              "<Figure size 1200x400 with 2 Axes>"
            ]
          },
          "metadata": {},
          "output_type": "display_data"
        },
        {
          "name": "stdout",
          "output_type": "stream",
          "text": [
            "\n"
          ]
        },
        {
          "data": {
            "image/png": "[encoded data removed]",
            "text/plain": [
              "<Figure size 1200x400 with 2 Axes>"
            ]
          },
          "metadata": {},
          "output_type": "display_data"
        },
        {
          "name": "stdout",
          "output_type": "stream",
          "text": [
            "\n"
          ]
        },
        {
          "data": {
            "image/png": "[encoded data removed]",
            "text/plain": [
              "<Figure size 1200x400 with 2 Axes>"
            ]
          },
          "metadata": {},
          "output_type": "display_data"
        }
      ],
      "source": [
        "def cnn_plot(train_losses, train_accs, valid_losses, valid_accs, test_loss, test_acc):\n",
        "  # Plot loss and accuracy graphs for the training process\n",
        "  plt.figure(figsize=(12, 4))\n",
        "  plt.subplot(1, 2, 1)\n",
        "  plt.plot(train_losses, label='Training Loss')\n",
        "  plt.plot(valid_losses, label='Validation Loss')\n",
        "  plt.xlabel('Iterations')\n",
        "  plt.ylabel('Loss')\n",
        "  plt.legend()\n",
        "\n",
        "  plt.subplot(1, 2, 2)\n",
        "  plt.plot(train_accs, label='Training Accuracy')\n",
        "  plt.plot(valid_accs, label='Validation Accuracy')\n",
        "  plt.xlabel('Iterations')\n",
        "  plt.ylabel('Accuracy')\n",
        "  plt.legend()\n",
        "  plt.show()\n",
        "for cnn_params in cnn_params_array:\n",
        "  print()\n",
        "  cnn_plot(cnn_params[3], cnn_params[4], cnn_params[5], cnn_params[6], cnn_params[7], cnn_params[8])"
      ]
    },
    {
      "cell_type": "markdown",
      "metadata": {
        "id": "Z1Rsz7LYLlie"
      },
      "source": [
        "Precision, Recall and F1_Score Functions for MLP and CNN"
      ]
    },
    {
      "cell_type": "code",
      "execution_count": null,
      "metadata": {
        "id": "bF_vNUIZp2H5"
      },
      "outputs": [],
      "source": [
        "def calculate_metrics(true_labels, pred_labels, num_classes):\n",
        "    # Calculate precision, recall, and F1 score for each class\n",
        "    precision, recall, f1, _ = precision_recall_fscore_support(true_labels, pred_labels, labels=list(range(num_classes)))\n",
        "    \n",
        "    # Calculate micro-averaged scores\n",
        "    micro_precision, micro_recall, micro_f1, _ = precision_recall_fscore_support(true_labels, pred_labels, average='micro')\n",
        "    \n",
        "    # Calculate macro-averaged scores\n",
        "    macro_precision, macro_recall, macro_f1, _ = precision_recall_fscore_support(true_labels, pred_labels, average='macro')\n",
        "    \n",
        "    # Print results\n",
        "    #print(\"Precision per class: \", precision)\n",
        "    #print(\"Recall per class: \", recall)\n",
        "    #print(\"F1 score per class: \", f1)\n",
        "    print(\"Micro-averaged precision: \", micro_precision)\n",
        "    print(\"Micro-averaged recall: \", micro_recall)\n",
        "    print(\"Micro-averaged F1 score: \", micro_f1)\n",
        "    print(\"Macro-averaged precision: \", macro_precision)\n",
        "    print(\"Macro-averaged recall: \", macro_recall)\n",
        "    print(\"Macro-averaged F1 score: \", macro_f1)\n"
      ]
    },
    {
      "cell_type": "markdown",
      "source": [
        "MLP SUMMARY"
      ],
      "metadata": {
        "id": "dt8-oZjoKxA8"
      }
    },
    {
      "cell_type": "code",
      "source": [
        "calculate_metrics(mlp_params[1], mlp_params[2], len(train_data.classes))"
      ],
      "metadata": {
        "id": "HpQyxbhtKrMa"
      },
      "execution_count": null,
      "outputs": []
    },
    {
      "cell_type": "code",
      "source": [
        "print(mlp_params[0])"
      ],
      "metadata": {
        "id": "FDnK67pCKYNf"
      },
      "execution_count": null,
      "outputs": []
    },
    {
      "cell_type": "markdown",
      "metadata": {
        "id": "kHcPonQiMavh"
      },
      "source": [
        "CNN SUMMARY"
      ]
    },
    {
      "cell_type": "code",
      "execution_count": null,
      "metadata": {
        "colab": {
          "base_uri": "https://localhost:8080/"
        },
        "id": "M1u08pIEMXUi",
        "outputId": "6f541217-c77f-4f82-c602-d56db872bd22"
      },
      "outputs": [
        {
          "name": "stdout",
          "output_type": "stream",
          "text": [
            "\n",
            "Micro-averaged precision:  0.8788297872340426\n",
            "Micro-averaged recall:  0.8788297872340426\n",
            "Micro-averaged F1 score:  0.8788297872340426\n",
            "Macro-averaged precision:  0.8801103604766817\n",
            "Macro-averaged recall:  0.8788297872340426\n",
            "Macro-averaged F1 score:  0.8779314033769906\n",
            "\n",
            "Micro-averaged precision:  0.8664893617021276\n",
            "Micro-averaged recall:  0.8664893617021276\n",
            "Micro-averaged F1 score:  0.8664893617021276\n",
            "Macro-averaged precision:  0.8755208105492378\n",
            "Macro-averaged recall:  0.8664893617021276\n",
            "Macro-averaged F1 score:  0.8633408423854919\n",
            "\n",
            "Micro-averaged precision:  0.0199468085106383\n",
            "Micro-averaged recall:  0.0199468085106383\n",
            "Micro-averaged F1 score:  0.0199468085106383\n",
            "Macro-averaged precision:  0.012973085976144862\n",
            "Macro-averaged recall:  0.019946808510638295\n",
            "Macro-averaged F1 score:  0.0034502260027902323\n"
          ]
        },
        {
          "name": "stderr",
          "output_type": "stream",
          "text": [
            "/usr/local/lib/python3.9/dist-packages/sklearn/metrics/_classification.py:1344: UndefinedMetricWarning: Precision and F-score are ill-defined and being set to 0.0 in labels with no predicted samples. Use `zero_division` parameter to control this behavior.\n",
            "  _warn_prf(average, modifier, msg_start, len(result))\n",
            "/usr/local/lib/python3.9/dist-packages/sklearn/metrics/_classification.py:1344: UndefinedMetricWarning: Precision and F-score are ill-defined and being set to 0.0 in labels with no predicted samples. Use `zero_division` parameter to control this behavior.\n",
            "  _warn_prf(average, modifier, msg_start, len(result))\n"
          ]
        }
      ],
      "source": [
        "for i in range(len(cnn_params_array)):\n",
        "  print(f\"\")\n",
        "  calculate_metrics(cnn_params_array[i][1], cnn_params_array[i][2], len(train_data.classes))\n",
        "  "
      ]
    },
    {
      "cell_type": "markdown",
      "source": [
        "PLOTTING CONFUSION MATRIX FOR MLP"
      ],
      "metadata": {
        "id": "bh9q8YVoNCRx"
      }
    },
    {
      "cell_type": "code",
      "source": [
        "\n",
        "def plot_confusion_matrix(true_labels, pred_labels, classes):\n",
        "    cm = confusion_matrix(true_labels, pred_labels, labels=classes)\n",
        "    fig, ax = plt.subplots()\n",
        "    im = ax.imshow(cm, interpolation='nearest', cmap=plt.cm.Blues)\n",
        "    ax.figure.colorbar(im, ax=ax)\n",
        "    ax.set(xticks=np.arange(cm.shape[1]), yticks=np.arange(cm.shape[0]), \n",
        "           xticklabels=classes, yticklabels=classes, \n",
        "           title='Confusion Matrix', ylabel='True label', xlabel='Predicted label')\n",
        "    plt.setp(ax.get_xticklabels(), rotation=45, ha=\"right\", rotation_mode=\"anchor\")\n",
        "    fmt = '.2f' if cm.dtype == np.float32 else 'd'\n",
        "    thresh = cm.max() / 2.\n",
        "    for i in range(cm.shape[0]):\n",
        "        for j in range(cm.shape[1]):\n",
        "            ax.text(j, i, format(cm[i, j], fmt), ha=\"center\", va=\"center\", \n",
        "                    color=\"white\" if cm[i, j] > thresh else \"black\")\n",
        "    fig.tight_layout()\n",
        "    plt.show()\n",
        "    return ax\n",
        "\n",
        "# Compute the confusion matrix\n",
        "y_test = [mapping[i] for i in mlp_params[0]]\n",
        "y_pred = [mapping[i] for i in mlp_params[0])]\n",
        "cm = confusion_matrix(y_test, y_pred, labels=classes)\n",
        "\n",
        "# Plot confusion matrix\n",
        "plot_confusion_matrix(y_test, y_pred, classes)\n"
      ],
      "metadata": {
        "id": "HH9YKljpM_pG"
      },
      "execution_count": null,
      "outputs": []
    },
    {
      "cell_type": "markdown",
      "source": [
        "PLOTTING THE CONFUSSION MATRIX FOR CNN"
      ],
      "metadata": {
        "id": "CEuyVwq4T6yT"
      }
    },
    {
      "cell_type": "code",
      "source": [
        "\n",
        "def plot_confusion_matrix(true_labels, pred_labels, classes):\n",
        "    cm = confusion_matrix(true_labels, pred_labels, labels=classes)\n",
        "    fig, ax = plt.subplots()\n",
        "    im = ax.imshow(cm, interpolation='nearest', cmap=plt.cm.Blues)\n",
        "    ax.figure.colorbar(im, ax=ax)\n",
        "    ax.set(xticks=np.arange(cm.shape[1]), yticks=np.arange(cm.shape[0]), \n",
        "           xticklabels=classes, yticklabels=classes, \n",
        "           title='Confusion Matrix', ylabel='True label', xlabel='Predicted label')\n",
        "    plt.setp(ax.get_xticklabels(), rotation=45, ha=\"right\", rotation_mode=\"anchor\")\n",
        "    fmt = '.2f' if cm.dtype == np.float32 else 'd'\n",
        "    thresh = cm.max() / 2.\n",
        "    for i in range(cm.shape[0]):\n",
        "        for j in range(cm.shape[1]):\n",
        "            ax.text(j, i, format(cm[i, j], fmt), ha=\"center\", va=\"center\", \n",
        "                    color=\"white\" if cm[i, j] > thresh else \"black\")\n",
        "    fig.tight_layout()\n",
        "    plt.show()\n",
        "    return ax\n",
        "\n",
        "# Compute the confusion matrix\n",
        "y_test = [mapping[i] for i in cnn_params_array[0][1]]\n",
        "y_pred = [mapping[i] for i in cnn_params_array[0][2]]\n",
        "cm = confusion_matrix(y_test, y_pred, labels=classes)\n",
        "\n",
        "# Plot confusion matrix\n",
        "plot_confusion_matrix(y_test, y_pred, classes)\n"
      ],
      "metadata": {
        "id": "1CuzSxxeUAI2"
      },
      "execution_count": null,
      "outputs": []
    }
  ],
  "metadata": {
    "colab": {
      "provenance": []
    },
    "kernelspec": {
      "display_name": "Python 3 (ipykernel)",
      "language": "python",
      "name": "python3"
    },
    "language_info": {
      "codemirror_mode": {
        "name": "ipython",
        "version": 3
      },
      "file_extension": ".py",
      "mimetype": "text/x-python",
      "name": "python",
      "nbconvert_exporter": "python",
      "pygments_lexer": "ipython3",
      "version": "3.9.12"
    },
    "toc": {
      "base_numbering": 1,
      "nav_menu": {},
      "number_sections": true,
      "sideBar": true,
      "skip_h1_title": false,
      "title_cell": "Table of Contents",
      "title_sidebar": "Contents",
      "toc_cell": false,
      "toc_position": {},
      "toc_section_display": true,
      "toc_window_display": false
    },
    "varInspector": {
      "cols": {
        "lenName": "100",
        "lenType": "100",
        "lenVar": "100"
      },
      "kernels_config": {
        "python": {
          "delete_cmd_postfix": "",
          "delete_cmd_prefix": "del ",
          "library": "var_list.py",
          "varRefreshCmd": "print(var_dic_list())"
        },
        "r": {
          "delete_cmd_postfix": ") ",
          "delete_cmd_prefix": "rm(",
          "library": "var_list.r",
          "varRefreshCmd": "cat(var_dic_list()) "
        }
      },
      "types_to_exclude": [
        "module",
        "function",
        "builtin_function_or_method",
        "instance",
        "_Feature"
      ],
      "window_display": true
    }
  },
  "nbformat": 4,
  "nbformat_minor": 0
}